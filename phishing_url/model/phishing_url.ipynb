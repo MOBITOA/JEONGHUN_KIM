{
  "nbformat": 4,
  "nbformat_minor": 0,
  "metadata": {
    "colab": {
      "provenance": []
    },
    "kernelspec": {
      "name": "python3",
      "display_name": "Python 3"
    },
    "language_info": {
      "name": "python"
    }
  },
  "cells": [
    {
      "cell_type": "code",
      "source": [
        "import lightgbm as lgb\n",
        "from sklearn.model_selection import train_test_split\n",
        "from sklearn.metrics import accuracy_score\n",
        "import pandas as pd\n",
        "import numpy as np\n",
        "import matplotlib.pyplot as plt\n",
        "import seaborn as sns\n",
        "import os\n",
        "from scipy import stats\n",
        "import statsmodels.api as sm\n",
        "from statsmodels.formula.api import ols, glm\n",
        "from urllib.parse import urlparse\n",
        "import re\n",
        "\n",
        "import requests\n",
        "from urllib.parse import urlparse\n",
        "from bs4 import BeautifulSoup"
      ],
      "metadata": {
        "id": "GadNg_KkYuXi"
      },
      "execution_count": 2,
      "outputs": []
    },
    {
      "cell_type": "code",
      "source": [
        "from google.colab import drive\n",
        "drive.mount('/gdrive')"
      ],
      "metadata": {
        "colab": {
          "base_uri": "https://localhost:8080/"
        },
        "id": "JHL1gzGVYvdj",
        "outputId": "5b9e6512-a6f1-4c5c-f12c-370b51f863ed"
      },
      "execution_count": 3,
      "outputs": [
        {
          "output_type": "stream",
          "name": "stdout",
          "text": [
            "Mounted at /gdrive\n"
          ]
        }
      ]
    },
    {
      "cell_type": "code",
      "source": [
        "workspace_path = '/gdrive/My Drive/Colab Notebooks/capstone/'"
      ],
      "metadata": {
        "id": "vwUznQTwYuy1"
      },
      "execution_count": 4,
      "outputs": []
    },
    {
      "cell_type": "code",
      "source": [
        "ph_df = pd.read_csv(os.path.join(workspace_path, 'phishing_url.csv'), sep=',', header=0, engine='python')\n",
        "norm_df = pd.read_csv(os.path.join(workspace_path, 'normal_url.csv'), sep=',', header=0, engine='python')"
      ],
      "metadata": {
        "id": "n8H_0hmOY9iF"
      },
      "execution_count": 5,
      "outputs": []
    },
    {
      "cell_type": "code",
      "source": [
        "ph_df.shape"
      ],
      "metadata": {
        "colab": {
          "base_uri": "https://localhost:8080/"
        },
        "id": "sP44n2K6ZFlu",
        "outputId": "e44eaaaa-7640-46f5-8021-dc98b5b1c6b8"
      },
      "execution_count": 6,
      "outputs": [
        {
          "output_type": "execute_result",
          "data": {
            "text/plain": [
              "(1452, 2)"
            ]
          },
          "metadata": {},
          "execution_count": 6
        }
      ]
    },
    {
      "cell_type": "code",
      "source": [
        "norm_df.shape"
      ],
      "metadata": {
        "colab": {
          "base_uri": "https://localhost:8080/"
        },
        "id": "6HZgIhsWZKHm",
        "outputId": "329b7b2b-6a12-4796-e7ab-e0d4a97c6628"
      },
      "execution_count": 7,
      "outputs": [
        {
          "output_type": "execute_result",
          "data": {
            "text/plain": [
              "(1307, 2)"
            ]
          },
          "metadata": {},
          "execution_count": 7
        }
      ]
    },
    {
      "cell_type": "code",
      "source": [
        "ph_df.rename(columns={'Extracted Link': 'url'}, inplace=True)\n",
        "norm_df.rename(columns={'Extracted Link': 'url'}, inplace=True)"
      ],
      "metadata": {
        "id": "vnMyv2Y6kQYS"
      },
      "execution_count": 8,
      "outputs": []
    },
    {
      "cell_type": "code",
      "source": [
        "from urllib.parse import urlparse\n",
        "\n",
        "# 피처 추출 함수\n",
        "def extract_features(url):\n",
        "    parsed_url = urlparse(url)\n",
        "    domain = parsed_url.netloc  # 도메인 부분 추출\n",
        "\n",
        "    features = {\n",
        "        'contains_at': '@' in url,\n",
        "        'contains_dash': '-' in url,\n",
        "        'url_length': len(domain),  # 도메인 길이 계산\n",
        "        'is_https': url.startswith('https://'),\n",
        "        'digit_count': sum(c.isdigit() for c in url),\n",
        "        'double_slash': url.count('//') > 1,\n",
        "        'is_shortened': any(shortener in url for shortener in ['bit.ly', 'goo.gl', 'tinyurl.com']),\n",
        "        'subdomain_count': domain.count('.') - 1 if domain.startswith('www.') else domain.count('.')\n",
        "    }\n",
        "    return features\n",
        "\n",
        "\n",
        "def extract_features2(url):\n",
        "    features = {}\n",
        "    parsed_url = urlparse(url)\n",
        "\n",
        "    # 1. 웹사이트 생성 날짜\n",
        "    try:\n",
        "        domain_info = whois.whois(parsed_url.netloc)\n",
        "        features['creation_date'] = domain_info.creation_date\n",
        "    except Exception:\n",
        "        features['creation_date'] = None\n",
        "\n",
        "    # 2. URL 내용이 소스코드 내에 포함\n",
        "    try:\n",
        "        response = requests.get(url, timeout=5)\n",
        "        features['url_in_source'] = url in response.text\n",
        "    except Exception:\n",
        "        features['url_in_source'] = False\n",
        "\n",
        "    # 3. 비표준 포트 사용\n",
        "    port = parsed_url.port\n",
        "    features['non_standard_port'] = port not in [None, 80, 443]\n",
        "\n",
        "    # 4. HTML 소스코드 길이\n",
        "    try:\n",
        "        features['source_code_length'] = len(response.text)\n",
        "    except Exception:\n",
        "        features['source_code_length'] = None\n",
        "\n",
        "    return features\n",
        "\n",
        "\n",
        "# 데이터프레임에 피처 추출 적용 함수\n",
        "def extract_features_from_dataframe(df):\n",
        "    features_list = []\n",
        "    for url in df['url']:\n",
        "        features = extract_features(url)\n",
        "        # features2 = extract_features2(url)\n",
        "        # features.update(features2)\n",
        "        features_list.append(features)\n",
        "\n",
        "    features_df = pd.DataFrame(features_list)\n",
        "    return features_df"
      ],
      "metadata": {
        "id": "-2zaiOeVZL1m"
      },
      "execution_count": 9,
      "outputs": []
    },
    {
      "cell_type": "code",
      "source": [
        "# 피처 추출\n",
        "ph_features_df = extract_features_from_dataframe(ph_df)\n",
        "norm_features_df = extract_features_from_dataframe(norm_df)"
      ],
      "metadata": {
        "id": "KLwvXmX9c-Ea"
      },
      "execution_count": 10,
      "outputs": []
    },
    {
      "cell_type": "code",
      "source": [
        "\n",
        "# 피싱 및 정상 데이터셋에 레이블 추가\n",
        "ph_features_df['label'] = 1  # 피싱 URL\n",
        "norm_features_df['label'] = 0  # 정상 URL"
      ],
      "metadata": {
        "id": "t_x5VIujfbTz"
      },
      "execution_count": 11,
      "outputs": []
    },
    {
      "cell_type": "code",
      "source": [
        "# 데이터셋 병합\n",
        "ph_val = ph_features_df.sample(n=100, random_state=42)\n",
        "ph_train = ph_features_df.drop(ph_val.index)\n",
        "\n",
        "norm_val = norm_features_df.sample(n=100, random_state=42)\n",
        "norm_train = norm_features_df.drop(norm_val.index)\n",
        "\n",
        "valset = pd.concat([ph_val, norm_val])\n",
        "df = pd.concat([ph_train, norm_train], ignore_index=True)"
      ],
      "metadata": {
        "id": "92CJyLr2kzfi"
      },
      "execution_count": 18,
      "outputs": []
    },
    {
      "cell_type": "code",
      "source": [
        "df.head()"
      ],
      "metadata": {
        "colab": {
          "base_uri": "https://localhost:8080/",
          "height": 206
        },
        "id": "_KBF3WXSk1Ha",
        "outputId": "0e73ccac-b104-4ebc-a682-681fe0900d42"
      },
      "execution_count": 19,
      "outputs": [
        {
          "output_type": "execute_result",
          "data": {
            "text/plain": [
              "   contains_at  contains_dash  url_length  is_https  digit_count  \\\n",
              "0        False          False          19      True            5   \n",
              "1        False          False          22     False            0   \n",
              "2        False           True          15      True           15   \n",
              "3        False           True          17      True            0   \n",
              "4        False          False          26      True            0   \n",
              "\n",
              "   double_slash  is_shortened  subdomain_count  label  \n",
              "0         False         False                3      1  \n",
              "1         False         False                2      1  \n",
              "2         False         False                2      1  \n",
              "3         False         False                1      1  \n",
              "4         False         False                2      1  "
            ],
            "text/html": [
              "\n",
              "  <div id=\"df-f70b766d-03e0-461a-a015-afa4146f6f96\" class=\"colab-df-container\">\n",
              "    <div>\n",
              "<style scoped>\n",
              "    .dataframe tbody tr th:only-of-type {\n",
              "        vertical-align: middle;\n",
              "    }\n",
              "\n",
              "    .dataframe tbody tr th {\n",
              "        vertical-align: top;\n",
              "    }\n",
              "\n",
              "    .dataframe thead th {\n",
              "        text-align: right;\n",
              "    }\n",
              "</style>\n",
              "<table border=\"1\" class=\"dataframe\">\n",
              "  <thead>\n",
              "    <tr style=\"text-align: right;\">\n",
              "      <th></th>\n",
              "      <th>contains_at</th>\n",
              "      <th>contains_dash</th>\n",
              "      <th>url_length</th>\n",
              "      <th>is_https</th>\n",
              "      <th>digit_count</th>\n",
              "      <th>double_slash</th>\n",
              "      <th>is_shortened</th>\n",
              "      <th>subdomain_count</th>\n",
              "      <th>label</th>\n",
              "    </tr>\n",
              "  </thead>\n",
              "  <tbody>\n",
              "    <tr>\n",
              "      <th>0</th>\n",
              "      <td>False</td>\n",
              "      <td>False</td>\n",
              "      <td>19</td>\n",
              "      <td>True</td>\n",
              "      <td>5</td>\n",
              "      <td>False</td>\n",
              "      <td>False</td>\n",
              "      <td>3</td>\n",
              "      <td>1</td>\n",
              "    </tr>\n",
              "    <tr>\n",
              "      <th>1</th>\n",
              "      <td>False</td>\n",
              "      <td>False</td>\n",
              "      <td>22</td>\n",
              "      <td>False</td>\n",
              "      <td>0</td>\n",
              "      <td>False</td>\n",
              "      <td>False</td>\n",
              "      <td>2</td>\n",
              "      <td>1</td>\n",
              "    </tr>\n",
              "    <tr>\n",
              "      <th>2</th>\n",
              "      <td>False</td>\n",
              "      <td>True</td>\n",
              "      <td>15</td>\n",
              "      <td>True</td>\n",
              "      <td>15</td>\n",
              "      <td>False</td>\n",
              "      <td>False</td>\n",
              "      <td>2</td>\n",
              "      <td>1</td>\n",
              "    </tr>\n",
              "    <tr>\n",
              "      <th>3</th>\n",
              "      <td>False</td>\n",
              "      <td>True</td>\n",
              "      <td>17</td>\n",
              "      <td>True</td>\n",
              "      <td>0</td>\n",
              "      <td>False</td>\n",
              "      <td>False</td>\n",
              "      <td>1</td>\n",
              "      <td>1</td>\n",
              "    </tr>\n",
              "    <tr>\n",
              "      <th>4</th>\n",
              "      <td>False</td>\n",
              "      <td>False</td>\n",
              "      <td>26</td>\n",
              "      <td>True</td>\n",
              "      <td>0</td>\n",
              "      <td>False</td>\n",
              "      <td>False</td>\n",
              "      <td>2</td>\n",
              "      <td>1</td>\n",
              "    </tr>\n",
              "  </tbody>\n",
              "</table>\n",
              "</div>\n",
              "    <div class=\"colab-df-buttons\">\n",
              "\n",
              "  <div class=\"colab-df-container\">\n",
              "    <button class=\"colab-df-convert\" onclick=\"convertToInteractive('df-f70b766d-03e0-461a-a015-afa4146f6f96')\"\n",
              "            title=\"Convert this dataframe to an interactive table.\"\n",
              "            style=\"display:none;\">\n",
              "\n",
              "  <svg xmlns=\"http://www.w3.org/2000/svg\" height=\"24px\" viewBox=\"0 -960 960 960\">\n",
              "    <path d=\"M120-120v-720h720v720H120Zm60-500h600v-160H180v160Zm220 220h160v-160H400v160Zm0 220h160v-160H400v160ZM180-400h160v-160H180v160Zm440 0h160v-160H620v160ZM180-180h160v-160H180v160Zm440 0h160v-160H620v160Z\"/>\n",
              "  </svg>\n",
              "    </button>\n",
              "\n",
              "  <style>\n",
              "    .colab-df-container {\n",
              "      display:flex;\n",
              "      gap: 12px;\n",
              "    }\n",
              "\n",
              "    .colab-df-convert {\n",
              "      background-color: #E8F0FE;\n",
              "      border: none;\n",
              "      border-radius: 50%;\n",
              "      cursor: pointer;\n",
              "      display: none;\n",
              "      fill: #1967D2;\n",
              "      height: 32px;\n",
              "      padding: 0 0 0 0;\n",
              "      width: 32px;\n",
              "    }\n",
              "\n",
              "    .colab-df-convert:hover {\n",
              "      background-color: #E2EBFA;\n",
              "      box-shadow: 0px 1px 2px rgba(60, 64, 67, 0.3), 0px 1px 3px 1px rgba(60, 64, 67, 0.15);\n",
              "      fill: #174EA6;\n",
              "    }\n",
              "\n",
              "    .colab-df-buttons div {\n",
              "      margin-bottom: 4px;\n",
              "    }\n",
              "\n",
              "    [theme=dark] .colab-df-convert {\n",
              "      background-color: #3B4455;\n",
              "      fill: #D2E3FC;\n",
              "    }\n",
              "\n",
              "    [theme=dark] .colab-df-convert:hover {\n",
              "      background-color: #434B5C;\n",
              "      box-shadow: 0px 1px 3px 1px rgba(0, 0, 0, 0.15);\n",
              "      filter: drop-shadow(0px 1px 2px rgba(0, 0, 0, 0.3));\n",
              "      fill: #FFFFFF;\n",
              "    }\n",
              "  </style>\n",
              "\n",
              "    <script>\n",
              "      const buttonEl =\n",
              "        document.querySelector('#df-f70b766d-03e0-461a-a015-afa4146f6f96 button.colab-df-convert');\n",
              "      buttonEl.style.display =\n",
              "        google.colab.kernel.accessAllowed ? 'block' : 'none';\n",
              "\n",
              "      async function convertToInteractive(key) {\n",
              "        const element = document.querySelector('#df-f70b766d-03e0-461a-a015-afa4146f6f96');\n",
              "        const dataTable =\n",
              "          await google.colab.kernel.invokeFunction('convertToInteractive',\n",
              "                                                    [key], {});\n",
              "        if (!dataTable) return;\n",
              "\n",
              "        const docLinkHtml = 'Like what you see? Visit the ' +\n",
              "          '<a target=\"_blank\" href=https://colab.research.google.com/notebooks/data_table.ipynb>data table notebook</a>'\n",
              "          + ' to learn more about interactive tables.';\n",
              "        element.innerHTML = '';\n",
              "        dataTable['output_type'] = 'display_data';\n",
              "        await google.colab.output.renderOutput(dataTable, element);\n",
              "        const docLink = document.createElement('div');\n",
              "        docLink.innerHTML = docLinkHtml;\n",
              "        element.appendChild(docLink);\n",
              "      }\n",
              "    </script>\n",
              "  </div>\n",
              "\n",
              "\n",
              "<div id=\"df-604588db-42d0-492f-a2ce-db29db71a1f2\">\n",
              "  <button class=\"colab-df-quickchart\" onclick=\"quickchart('df-604588db-42d0-492f-a2ce-db29db71a1f2')\"\n",
              "            title=\"Suggest charts\"\n",
              "            style=\"display:none;\">\n",
              "\n",
              "<svg xmlns=\"http://www.w3.org/2000/svg\" height=\"24px\"viewBox=\"0 0 24 24\"\n",
              "     width=\"24px\">\n",
              "    <g>\n",
              "        <path d=\"M19 3H5c-1.1 0-2 .9-2 2v14c0 1.1.9 2 2 2h14c1.1 0 2-.9 2-2V5c0-1.1-.9-2-2-2zM9 17H7v-7h2v7zm4 0h-2V7h2v10zm4 0h-2v-4h2v4z\"/>\n",
              "    </g>\n",
              "</svg>\n",
              "  </button>\n",
              "\n",
              "<style>\n",
              "  .colab-df-quickchart {\n",
              "      --bg-color: #E8F0FE;\n",
              "      --fill-color: #1967D2;\n",
              "      --hover-bg-color: #E2EBFA;\n",
              "      --hover-fill-color: #174EA6;\n",
              "      --disabled-fill-color: #AAA;\n",
              "      --disabled-bg-color: #DDD;\n",
              "  }\n",
              "\n",
              "  [theme=dark] .colab-df-quickchart {\n",
              "      --bg-color: #3B4455;\n",
              "      --fill-color: #D2E3FC;\n",
              "      --hover-bg-color: #434B5C;\n",
              "      --hover-fill-color: #FFFFFF;\n",
              "      --disabled-bg-color: #3B4455;\n",
              "      --disabled-fill-color: #666;\n",
              "  }\n",
              "\n",
              "  .colab-df-quickchart {\n",
              "    background-color: var(--bg-color);\n",
              "    border: none;\n",
              "    border-radius: 50%;\n",
              "    cursor: pointer;\n",
              "    display: none;\n",
              "    fill: var(--fill-color);\n",
              "    height: 32px;\n",
              "    padding: 0;\n",
              "    width: 32px;\n",
              "  }\n",
              "\n",
              "  .colab-df-quickchart:hover {\n",
              "    background-color: var(--hover-bg-color);\n",
              "    box-shadow: 0 1px 2px rgba(60, 64, 67, 0.3), 0 1px 3px 1px rgba(60, 64, 67, 0.15);\n",
              "    fill: var(--button-hover-fill-color);\n",
              "  }\n",
              "\n",
              "  .colab-df-quickchart-complete:disabled,\n",
              "  .colab-df-quickchart-complete:disabled:hover {\n",
              "    background-color: var(--disabled-bg-color);\n",
              "    fill: var(--disabled-fill-color);\n",
              "    box-shadow: none;\n",
              "  }\n",
              "\n",
              "  .colab-df-spinner {\n",
              "    border: 2px solid var(--fill-color);\n",
              "    border-color: transparent;\n",
              "    border-bottom-color: var(--fill-color);\n",
              "    animation:\n",
              "      spin 1s steps(1) infinite;\n",
              "  }\n",
              "\n",
              "  @keyframes spin {\n",
              "    0% {\n",
              "      border-color: transparent;\n",
              "      border-bottom-color: var(--fill-color);\n",
              "      border-left-color: var(--fill-color);\n",
              "    }\n",
              "    20% {\n",
              "      border-color: transparent;\n",
              "      border-left-color: var(--fill-color);\n",
              "      border-top-color: var(--fill-color);\n",
              "    }\n",
              "    30% {\n",
              "      border-color: transparent;\n",
              "      border-left-color: var(--fill-color);\n",
              "      border-top-color: var(--fill-color);\n",
              "      border-right-color: var(--fill-color);\n",
              "    }\n",
              "    40% {\n",
              "      border-color: transparent;\n",
              "      border-right-color: var(--fill-color);\n",
              "      border-top-color: var(--fill-color);\n",
              "    }\n",
              "    60% {\n",
              "      border-color: transparent;\n",
              "      border-right-color: var(--fill-color);\n",
              "    }\n",
              "    80% {\n",
              "      border-color: transparent;\n",
              "      border-right-color: var(--fill-color);\n",
              "      border-bottom-color: var(--fill-color);\n",
              "    }\n",
              "    90% {\n",
              "      border-color: transparent;\n",
              "      border-bottom-color: var(--fill-color);\n",
              "    }\n",
              "  }\n",
              "</style>\n",
              "\n",
              "  <script>\n",
              "    async function quickchart(key) {\n",
              "      const quickchartButtonEl =\n",
              "        document.querySelector('#' + key + ' button');\n",
              "      quickchartButtonEl.disabled = true;  // To prevent multiple clicks.\n",
              "      quickchartButtonEl.classList.add('colab-df-spinner');\n",
              "      try {\n",
              "        const charts = await google.colab.kernel.invokeFunction(\n",
              "            'suggestCharts', [key], {});\n",
              "      } catch (error) {\n",
              "        console.error('Error during call to suggestCharts:', error);\n",
              "      }\n",
              "      quickchartButtonEl.classList.remove('colab-df-spinner');\n",
              "      quickchartButtonEl.classList.add('colab-df-quickchart-complete');\n",
              "    }\n",
              "    (() => {\n",
              "      let quickchartButtonEl =\n",
              "        document.querySelector('#df-604588db-42d0-492f-a2ce-db29db71a1f2 button');\n",
              "      quickchartButtonEl.style.display =\n",
              "        google.colab.kernel.accessAllowed ? 'block' : 'none';\n",
              "    })();\n",
              "  </script>\n",
              "</div>\n",
              "\n",
              "    </div>\n",
              "  </div>\n"
            ]
          },
          "metadata": {},
          "execution_count": 19
        }
      ]
    },
    {
      "cell_type": "code",
      "source": [
        "df.info()"
      ],
      "metadata": {
        "colab": {
          "base_uri": "https://localhost:8080/"
        },
        "id": "VuLerZ5mk36y",
        "outputId": "2e6688db-5c6a-463d-9e2b-bb700adc1cd2"
      },
      "execution_count": 20,
      "outputs": [
        {
          "output_type": "stream",
          "name": "stdout",
          "text": [
            "<class 'pandas.core.frame.DataFrame'>\n",
            "RangeIndex: 2559 entries, 0 to 2558\n",
            "Data columns (total 9 columns):\n",
            " #   Column           Non-Null Count  Dtype\n",
            "---  ------           --------------  -----\n",
            " 0   contains_at      2559 non-null   bool \n",
            " 1   contains_dash    2559 non-null   bool \n",
            " 2   url_length       2559 non-null   int64\n",
            " 3   is_https         2559 non-null   bool \n",
            " 4   digit_count      2559 non-null   int64\n",
            " 5   double_slash     2559 non-null   bool \n",
            " 6   is_shortened     2559 non-null   bool \n",
            " 7   subdomain_count  2559 non-null   int64\n",
            " 8   label            2559 non-null   int64\n",
            "dtypes: bool(5), int64(4)\n",
            "memory usage: 92.6 KB\n"
          ]
        }
      ]
    },
    {
      "cell_type": "code",
      "source": [
        "df_corr = df.corr(method='pearson')\n",
        "df_corr"
      ],
      "metadata": {
        "colab": {
          "base_uri": "https://localhost:8080/",
          "height": 332
        },
        "id": "JPxRrTR3p7gG",
        "outputId": "be448a66-ba83-46eb-8fb0-73b584299d89"
      },
      "execution_count": 21,
      "outputs": [
        {
          "output_type": "execute_result",
          "data": {
            "text/plain": [
              "                 contains_at  contains_dash  url_length  is_https  \\\n",
              "contains_at         1.000000       0.015785   -0.021605  0.019001   \n",
              "contains_dash       0.015785       1.000000    0.224912  0.060746   \n",
              "url_length         -0.021605       0.224912    1.000000  0.085328   \n",
              "is_https            0.019001       0.060746    0.085328  1.000000   \n",
              "digit_count        -0.006036       0.220519    0.204044 -0.001014   \n",
              "double_slash       -0.005263       0.100522    0.131250 -0.013016   \n",
              "is_shortened       -0.004262      -0.084122   -0.138681 -0.028768   \n",
              "subdomain_count    -0.002013       0.156911    0.659447 -0.002431   \n",
              "label              -0.036259       0.023257    0.287744  0.066544   \n",
              "\n",
              "                 digit_count  double_slash  is_shortened  subdomain_count  \\\n",
              "contains_at        -0.006036     -0.005263     -0.004262        -0.002013   \n",
              "contains_dash       0.220519      0.100522     -0.084122         0.156911   \n",
              "url_length          0.204044      0.131250     -0.138681         0.659447   \n",
              "is_https           -0.001014     -0.013016     -0.028768        -0.002431   \n",
              "digit_count         1.000000      0.408732     -0.032390         0.445639   \n",
              "double_slash        0.408732      1.000000     -0.019111         0.342229   \n",
              "is_shortened       -0.032390     -0.019111      1.000000        -0.091013   \n",
              "subdomain_count     0.445639      0.342229     -0.091013         1.000000   \n",
              "label              -0.191154     -0.152157     -0.106104         0.113724   \n",
              "\n",
              "                    label  \n",
              "contains_at     -0.036259  \n",
              "contains_dash    0.023257  \n",
              "url_length       0.287744  \n",
              "is_https         0.066544  \n",
              "digit_count     -0.191154  \n",
              "double_slash    -0.152157  \n",
              "is_shortened    -0.106104  \n",
              "subdomain_count  0.113724  \n",
              "label            1.000000  "
            ],
            "text/html": [
              "\n",
              "  <div id=\"df-11bd31da-a4db-4a22-bc00-c08e3358aed9\" class=\"colab-df-container\">\n",
              "    <div>\n",
              "<style scoped>\n",
              "    .dataframe tbody tr th:only-of-type {\n",
              "        vertical-align: middle;\n",
              "    }\n",
              "\n",
              "    .dataframe tbody tr th {\n",
              "        vertical-align: top;\n",
              "    }\n",
              "\n",
              "    .dataframe thead th {\n",
              "        text-align: right;\n",
              "    }\n",
              "</style>\n",
              "<table border=\"1\" class=\"dataframe\">\n",
              "  <thead>\n",
              "    <tr style=\"text-align: right;\">\n",
              "      <th></th>\n",
              "      <th>contains_at</th>\n",
              "      <th>contains_dash</th>\n",
              "      <th>url_length</th>\n",
              "      <th>is_https</th>\n",
              "      <th>digit_count</th>\n",
              "      <th>double_slash</th>\n",
              "      <th>is_shortened</th>\n",
              "      <th>subdomain_count</th>\n",
              "      <th>label</th>\n",
              "    </tr>\n",
              "  </thead>\n",
              "  <tbody>\n",
              "    <tr>\n",
              "      <th>contains_at</th>\n",
              "      <td>1.000000</td>\n",
              "      <td>0.015785</td>\n",
              "      <td>-0.021605</td>\n",
              "      <td>0.019001</td>\n",
              "      <td>-0.006036</td>\n",
              "      <td>-0.005263</td>\n",
              "      <td>-0.004262</td>\n",
              "      <td>-0.002013</td>\n",
              "      <td>-0.036259</td>\n",
              "    </tr>\n",
              "    <tr>\n",
              "      <th>contains_dash</th>\n",
              "      <td>0.015785</td>\n",
              "      <td>1.000000</td>\n",
              "      <td>0.224912</td>\n",
              "      <td>0.060746</td>\n",
              "      <td>0.220519</td>\n",
              "      <td>0.100522</td>\n",
              "      <td>-0.084122</td>\n",
              "      <td>0.156911</td>\n",
              "      <td>0.023257</td>\n",
              "    </tr>\n",
              "    <tr>\n",
              "      <th>url_length</th>\n",
              "      <td>-0.021605</td>\n",
              "      <td>0.224912</td>\n",
              "      <td>1.000000</td>\n",
              "      <td>0.085328</td>\n",
              "      <td>0.204044</td>\n",
              "      <td>0.131250</td>\n",
              "      <td>-0.138681</td>\n",
              "      <td>0.659447</td>\n",
              "      <td>0.287744</td>\n",
              "    </tr>\n",
              "    <tr>\n",
              "      <th>is_https</th>\n",
              "      <td>0.019001</td>\n",
              "      <td>0.060746</td>\n",
              "      <td>0.085328</td>\n",
              "      <td>1.000000</td>\n",
              "      <td>-0.001014</td>\n",
              "      <td>-0.013016</td>\n",
              "      <td>-0.028768</td>\n",
              "      <td>-0.002431</td>\n",
              "      <td>0.066544</td>\n",
              "    </tr>\n",
              "    <tr>\n",
              "      <th>digit_count</th>\n",
              "      <td>-0.006036</td>\n",
              "      <td>0.220519</td>\n",
              "      <td>0.204044</td>\n",
              "      <td>-0.001014</td>\n",
              "      <td>1.000000</td>\n",
              "      <td>0.408732</td>\n",
              "      <td>-0.032390</td>\n",
              "      <td>0.445639</td>\n",
              "      <td>-0.191154</td>\n",
              "    </tr>\n",
              "    <tr>\n",
              "      <th>double_slash</th>\n",
              "      <td>-0.005263</td>\n",
              "      <td>0.100522</td>\n",
              "      <td>0.131250</td>\n",
              "      <td>-0.013016</td>\n",
              "      <td>0.408732</td>\n",
              "      <td>1.000000</td>\n",
              "      <td>-0.019111</td>\n",
              "      <td>0.342229</td>\n",
              "      <td>-0.152157</td>\n",
              "    </tr>\n",
              "    <tr>\n",
              "      <th>is_shortened</th>\n",
              "      <td>-0.004262</td>\n",
              "      <td>-0.084122</td>\n",
              "      <td>-0.138681</td>\n",
              "      <td>-0.028768</td>\n",
              "      <td>-0.032390</td>\n",
              "      <td>-0.019111</td>\n",
              "      <td>1.000000</td>\n",
              "      <td>-0.091013</td>\n",
              "      <td>-0.106104</td>\n",
              "    </tr>\n",
              "    <tr>\n",
              "      <th>subdomain_count</th>\n",
              "      <td>-0.002013</td>\n",
              "      <td>0.156911</td>\n",
              "      <td>0.659447</td>\n",
              "      <td>-0.002431</td>\n",
              "      <td>0.445639</td>\n",
              "      <td>0.342229</td>\n",
              "      <td>-0.091013</td>\n",
              "      <td>1.000000</td>\n",
              "      <td>0.113724</td>\n",
              "    </tr>\n",
              "    <tr>\n",
              "      <th>label</th>\n",
              "      <td>-0.036259</td>\n",
              "      <td>0.023257</td>\n",
              "      <td>0.287744</td>\n",
              "      <td>0.066544</td>\n",
              "      <td>-0.191154</td>\n",
              "      <td>-0.152157</td>\n",
              "      <td>-0.106104</td>\n",
              "      <td>0.113724</td>\n",
              "      <td>1.000000</td>\n",
              "    </tr>\n",
              "  </tbody>\n",
              "</table>\n",
              "</div>\n",
              "    <div class=\"colab-df-buttons\">\n",
              "\n",
              "  <div class=\"colab-df-container\">\n",
              "    <button class=\"colab-df-convert\" onclick=\"convertToInteractive('df-11bd31da-a4db-4a22-bc00-c08e3358aed9')\"\n",
              "            title=\"Convert this dataframe to an interactive table.\"\n",
              "            style=\"display:none;\">\n",
              "\n",
              "  <svg xmlns=\"http://www.w3.org/2000/svg\" height=\"24px\" viewBox=\"0 -960 960 960\">\n",
              "    <path d=\"M120-120v-720h720v720H120Zm60-500h600v-160H180v160Zm220 220h160v-160H400v160Zm0 220h160v-160H400v160ZM180-400h160v-160H180v160Zm440 0h160v-160H620v160ZM180-180h160v-160H180v160Zm440 0h160v-160H620v160Z\"/>\n",
              "  </svg>\n",
              "    </button>\n",
              "\n",
              "  <style>\n",
              "    .colab-df-container {\n",
              "      display:flex;\n",
              "      gap: 12px;\n",
              "    }\n",
              "\n",
              "    .colab-df-convert {\n",
              "      background-color: #E8F0FE;\n",
              "      border: none;\n",
              "      border-radius: 50%;\n",
              "      cursor: pointer;\n",
              "      display: none;\n",
              "      fill: #1967D2;\n",
              "      height: 32px;\n",
              "      padding: 0 0 0 0;\n",
              "      width: 32px;\n",
              "    }\n",
              "\n",
              "    .colab-df-convert:hover {\n",
              "      background-color: #E2EBFA;\n",
              "      box-shadow: 0px 1px 2px rgba(60, 64, 67, 0.3), 0px 1px 3px 1px rgba(60, 64, 67, 0.15);\n",
              "      fill: #174EA6;\n",
              "    }\n",
              "\n",
              "    .colab-df-buttons div {\n",
              "      margin-bottom: 4px;\n",
              "    }\n",
              "\n",
              "    [theme=dark] .colab-df-convert {\n",
              "      background-color: #3B4455;\n",
              "      fill: #D2E3FC;\n",
              "    }\n",
              "\n",
              "    [theme=dark] .colab-df-convert:hover {\n",
              "      background-color: #434B5C;\n",
              "      box-shadow: 0px 1px 3px 1px rgba(0, 0, 0, 0.15);\n",
              "      filter: drop-shadow(0px 1px 2px rgba(0, 0, 0, 0.3));\n",
              "      fill: #FFFFFF;\n",
              "    }\n",
              "  </style>\n",
              "\n",
              "    <script>\n",
              "      const buttonEl =\n",
              "        document.querySelector('#df-11bd31da-a4db-4a22-bc00-c08e3358aed9 button.colab-df-convert');\n",
              "      buttonEl.style.display =\n",
              "        google.colab.kernel.accessAllowed ? 'block' : 'none';\n",
              "\n",
              "      async function convertToInteractive(key) {\n",
              "        const element = document.querySelector('#df-11bd31da-a4db-4a22-bc00-c08e3358aed9');\n",
              "        const dataTable =\n",
              "          await google.colab.kernel.invokeFunction('convertToInteractive',\n",
              "                                                    [key], {});\n",
              "        if (!dataTable) return;\n",
              "\n",
              "        const docLinkHtml = 'Like what you see? Visit the ' +\n",
              "          '<a target=\"_blank\" href=https://colab.research.google.com/notebooks/data_table.ipynb>data table notebook</a>'\n",
              "          + ' to learn more about interactive tables.';\n",
              "        element.innerHTML = '';\n",
              "        dataTable['output_type'] = 'display_data';\n",
              "        await google.colab.output.renderOutput(dataTable, element);\n",
              "        const docLink = document.createElement('div');\n",
              "        docLink.innerHTML = docLinkHtml;\n",
              "        element.appendChild(docLink);\n",
              "      }\n",
              "    </script>\n",
              "  </div>\n",
              "\n",
              "\n",
              "<div id=\"df-56859fbe-5aef-4aa0-83fc-da3675ec8d97\">\n",
              "  <button class=\"colab-df-quickchart\" onclick=\"quickchart('df-56859fbe-5aef-4aa0-83fc-da3675ec8d97')\"\n",
              "            title=\"Suggest charts\"\n",
              "            style=\"display:none;\">\n",
              "\n",
              "<svg xmlns=\"http://www.w3.org/2000/svg\" height=\"24px\"viewBox=\"0 0 24 24\"\n",
              "     width=\"24px\">\n",
              "    <g>\n",
              "        <path d=\"M19 3H5c-1.1 0-2 .9-2 2v14c0 1.1.9 2 2 2h14c1.1 0 2-.9 2-2V5c0-1.1-.9-2-2-2zM9 17H7v-7h2v7zm4 0h-2V7h2v10zm4 0h-2v-4h2v4z\"/>\n",
              "    </g>\n",
              "</svg>\n",
              "  </button>\n",
              "\n",
              "<style>\n",
              "  .colab-df-quickchart {\n",
              "      --bg-color: #E8F0FE;\n",
              "      --fill-color: #1967D2;\n",
              "      --hover-bg-color: #E2EBFA;\n",
              "      --hover-fill-color: #174EA6;\n",
              "      --disabled-fill-color: #AAA;\n",
              "      --disabled-bg-color: #DDD;\n",
              "  }\n",
              "\n",
              "  [theme=dark] .colab-df-quickchart {\n",
              "      --bg-color: #3B4455;\n",
              "      --fill-color: #D2E3FC;\n",
              "      --hover-bg-color: #434B5C;\n",
              "      --hover-fill-color: #FFFFFF;\n",
              "      --disabled-bg-color: #3B4455;\n",
              "      --disabled-fill-color: #666;\n",
              "  }\n",
              "\n",
              "  .colab-df-quickchart {\n",
              "    background-color: var(--bg-color);\n",
              "    border: none;\n",
              "    border-radius: 50%;\n",
              "    cursor: pointer;\n",
              "    display: none;\n",
              "    fill: var(--fill-color);\n",
              "    height: 32px;\n",
              "    padding: 0;\n",
              "    width: 32px;\n",
              "  }\n",
              "\n",
              "  .colab-df-quickchart:hover {\n",
              "    background-color: var(--hover-bg-color);\n",
              "    box-shadow: 0 1px 2px rgba(60, 64, 67, 0.3), 0 1px 3px 1px rgba(60, 64, 67, 0.15);\n",
              "    fill: var(--button-hover-fill-color);\n",
              "  }\n",
              "\n",
              "  .colab-df-quickchart-complete:disabled,\n",
              "  .colab-df-quickchart-complete:disabled:hover {\n",
              "    background-color: var(--disabled-bg-color);\n",
              "    fill: var(--disabled-fill-color);\n",
              "    box-shadow: none;\n",
              "  }\n",
              "\n",
              "  .colab-df-spinner {\n",
              "    border: 2px solid var(--fill-color);\n",
              "    border-color: transparent;\n",
              "    border-bottom-color: var(--fill-color);\n",
              "    animation:\n",
              "      spin 1s steps(1) infinite;\n",
              "  }\n",
              "\n",
              "  @keyframes spin {\n",
              "    0% {\n",
              "      border-color: transparent;\n",
              "      border-bottom-color: var(--fill-color);\n",
              "      border-left-color: var(--fill-color);\n",
              "    }\n",
              "    20% {\n",
              "      border-color: transparent;\n",
              "      border-left-color: var(--fill-color);\n",
              "      border-top-color: var(--fill-color);\n",
              "    }\n",
              "    30% {\n",
              "      border-color: transparent;\n",
              "      border-left-color: var(--fill-color);\n",
              "      border-top-color: var(--fill-color);\n",
              "      border-right-color: var(--fill-color);\n",
              "    }\n",
              "    40% {\n",
              "      border-color: transparent;\n",
              "      border-right-color: var(--fill-color);\n",
              "      border-top-color: var(--fill-color);\n",
              "    }\n",
              "    60% {\n",
              "      border-color: transparent;\n",
              "      border-right-color: var(--fill-color);\n",
              "    }\n",
              "    80% {\n",
              "      border-color: transparent;\n",
              "      border-right-color: var(--fill-color);\n",
              "      border-bottom-color: var(--fill-color);\n",
              "    }\n",
              "    90% {\n",
              "      border-color: transparent;\n",
              "      border-bottom-color: var(--fill-color);\n",
              "    }\n",
              "  }\n",
              "</style>\n",
              "\n",
              "  <script>\n",
              "    async function quickchart(key) {\n",
              "      const quickchartButtonEl =\n",
              "        document.querySelector('#' + key + ' button');\n",
              "      quickchartButtonEl.disabled = true;  // To prevent multiple clicks.\n",
              "      quickchartButtonEl.classList.add('colab-df-spinner');\n",
              "      try {\n",
              "        const charts = await google.colab.kernel.invokeFunction(\n",
              "            'suggestCharts', [key], {});\n",
              "      } catch (error) {\n",
              "        console.error('Error during call to suggestCharts:', error);\n",
              "      }\n",
              "      quickchartButtonEl.classList.remove('colab-df-spinner');\n",
              "      quickchartButtonEl.classList.add('colab-df-quickchart-complete');\n",
              "    }\n",
              "    (() => {\n",
              "      let quickchartButtonEl =\n",
              "        document.querySelector('#df-56859fbe-5aef-4aa0-83fc-da3675ec8d97 button');\n",
              "      quickchartButtonEl.style.display =\n",
              "        google.colab.kernel.accessAllowed ? 'block' : 'none';\n",
              "    })();\n",
              "  </script>\n",
              "</div>\n",
              "\n",
              "  <div id=\"id_7007e997-151b-4509-b404-a66509f4dcdb\">\n",
              "    <style>\n",
              "      .colab-df-generate {\n",
              "        background-color: #E8F0FE;\n",
              "        border: none;\n",
              "        border-radius: 50%;\n",
              "        cursor: pointer;\n",
              "        display: none;\n",
              "        fill: #1967D2;\n",
              "        height: 32px;\n",
              "        padding: 0 0 0 0;\n",
              "        width: 32px;\n",
              "      }\n",
              "\n",
              "      .colab-df-generate:hover {\n",
              "        background-color: #E2EBFA;\n",
              "        box-shadow: 0px 1px 2px rgba(60, 64, 67, 0.3), 0px 1px 3px 1px rgba(60, 64, 67, 0.15);\n",
              "        fill: #174EA6;\n",
              "      }\n",
              "\n",
              "      [theme=dark] .colab-df-generate {\n",
              "        background-color: #3B4455;\n",
              "        fill: #D2E3FC;\n",
              "      }\n",
              "\n",
              "      [theme=dark] .colab-df-generate:hover {\n",
              "        background-color: #434B5C;\n",
              "        box-shadow: 0px 1px 3px 1px rgba(0, 0, 0, 0.15);\n",
              "        filter: drop-shadow(0px 1px 2px rgba(0, 0, 0, 0.3));\n",
              "        fill: #FFFFFF;\n",
              "      }\n",
              "    </style>\n",
              "    <button class=\"colab-df-generate\" onclick=\"generateWithVariable('df_corr')\"\n",
              "            title=\"Generate code using this dataframe.\"\n",
              "            style=\"display:none;\">\n",
              "\n",
              "  <svg xmlns=\"http://www.w3.org/2000/svg\" height=\"24px\"viewBox=\"0 0 24 24\"\n",
              "       width=\"24px\">\n",
              "    <path d=\"M7,19H8.4L18.45,9,17,7.55,7,17.6ZM5,21V16.75L18.45,3.32a2,2,0,0,1,2.83,0l1.4,1.43a1.91,1.91,0,0,1,.58,1.4,1.91,1.91,0,0,1-.58,1.4L9.25,21ZM18.45,9,17,7.55Zm-12,3A5.31,5.31,0,0,0,4.9,8.1,5.31,5.31,0,0,0,1,6.5,5.31,5.31,0,0,0,4.9,4.9,5.31,5.31,0,0,0,6.5,1,5.31,5.31,0,0,0,8.1,4.9,5.31,5.31,0,0,0,12,6.5,5.46,5.46,0,0,0,6.5,12Z\"/>\n",
              "  </svg>\n",
              "    </button>\n",
              "    <script>\n",
              "      (() => {\n",
              "      const buttonEl =\n",
              "        document.querySelector('#id_7007e997-151b-4509-b404-a66509f4dcdb button.colab-df-generate');\n",
              "      buttonEl.style.display =\n",
              "        google.colab.kernel.accessAllowed ? 'block' : 'none';\n",
              "\n",
              "      buttonEl.onclick = () => {\n",
              "        google.colab.notebook.generateWithVariable('df_corr');\n",
              "      }\n",
              "      })();\n",
              "    </script>\n",
              "  </div>\n",
              "\n",
              "    </div>\n",
              "  </div>\n"
            ]
          },
          "metadata": {},
          "execution_count": 21
        }
      ]
    },
    {
      "cell_type": "code",
      "source": [
        "heatmap_data = df.select_dtypes(include=[np.number])\n",
        "colormap = plt.cm.RdBu\n",
        "sns.heatmap(heatmap_data.astype(float).corr(), linewidths=0.1, vmax=1.0,\n",
        "            square=True, cmap=colormap, linecolor='white', annot=True,\n",
        "            annot_kws={'size': 10})\n",
        "plt.show()"
      ],
      "metadata": {
        "colab": {
          "base_uri": "https://localhost:8080/",
          "height": 544
        },
        "id": "ZNVAjHnLpzhE",
        "outputId": "90f30afe-b381-4616-95bd-18c800560745"
      },
      "execution_count": 22,
      "outputs": [
        {
          "output_type": "display_data",
          "data": {
            "text/plain": [
              "<Figure size 640x480 with 2 Axes>"
            ],
            "image/png": "[encoded data removed]"
          },
          "metadata": {}
        }
      ]
    },
    {
      "cell_type": "markdown",
      "source": [
        "# Logistic 회귀 모델"
      ],
      "metadata": {
        "id": "o2o1apHmRxAm"
      }
    },
    {
      "cell_type": "code",
      "source": [
        "import pandas as pd\n",
        "from sklearn.model_selection import train_test_split\n",
        "from sklearn.linear_model import LogisticRegression\n",
        "from sklearn.metrics import accuracy_score, classification_report, confusion_matrix\n",
        "\n",
        "# 데이터 준비 (독립 변수와 종속 변수 분리)\n",
        "X1 = df.drop(columns=['label'])\n",
        "y1 = df['label']\n",
        "\n",
        "val_input1 = valset.drop(columns=['label'])\n",
        "val_target1 = valset['label']\n",
        "\n",
        "# 학습 데이터와 테스트 데이터로 분할\n",
        "X_train1, X_test1, y_train1, y_test1 = train_test_split(X1, y1, test_size=0.2, random_state=42)"
      ],
      "metadata": {
        "id": "BePoPxaCrMau"
      },
      "execution_count": 23,
      "outputs": []
    },
    {
      "cell_type": "code",
      "source": [
        "# 로지스틱 회귀 모델 생성 및 학습\n",
        "logistic_model = LogisticRegression()\n",
        "logistic_model.fit(X_train1, y_train1)"
      ],
      "metadata": {
        "colab": {
          "base_uri": "https://localhost:8080/",
          "height": 222
        },
        "id": "SKnkkZdgR9z_",
        "outputId": "8cc26e89-fa6c-4f7a-837f-1981b8861b56"
      },
      "execution_count": 24,
      "outputs": [
        {
          "output_type": "stream",
          "name": "stderr",
          "text": [
            "/usr/local/lib/python3.10/dist-packages/sklearn/linear_model/_logistic.py:458: ConvergenceWarning: lbfgs failed to converge (status=1):\n",
            "STOP: TOTAL NO. of ITERATIONS REACHED LIMIT.\n",
            "\n",
            "Increase the number of iterations (max_iter) or scale the data as shown in:\n",
            "    https://scikit-learn.org/stable/modules/preprocessing.html\n",
            "Please also refer to the documentation for alternative solver options:\n",
            "    https://scikit-learn.org/stable/modules/linear_model.html#logistic-regression\n",
            "  n_iter_i = _check_optimize_result(\n"
          ]
        },
        {
          "output_type": "execute_result",
          "data": {
            "text/plain": [
              "LogisticRegression()"
            ],
            "text/html": [
              "<style>#sk-container-id-1 {color: black;background-color: white;}#sk-container-id-1 pre{padding: 0;}#sk-container-id-1 div.sk-toggleable {background-color: white;}#sk-container-id-1 label.sk-toggleable__label {cursor: pointer;display: block;width: 100%;margin-bottom: 0;padding: 0.3em;box-sizing: border-box;text-align: center;}#sk-container-id-1 label.sk-toggleable__label-arrow:before {content: \"▸\";float: left;margin-right: 0.25em;color: #696969;}#sk-container-id-1 label.sk-toggleable__label-arrow:hover:before {color: black;}#sk-container-id-1 div.sk-estimator:hover label.sk-toggleable__label-arrow:before {color: black;}#sk-container-id-1 div.sk-toggleable__content {max-height: 0;max-width: 0;overflow: hidden;text-align: left;background-color: #f0f8ff;}#sk-container-id-1 div.sk-toggleable__content pre {margin: 0.2em;color: black;border-radius: 0.25em;background-color: #f0f8ff;}#sk-container-id-1 input.sk-toggleable__control:checked~div.sk-toggleable__content {max-height: 200px;max-width: 100%;overflow: auto;}#sk-container-id-1 input.sk-toggleable__control:checked~label.sk-toggleable__label-arrow:before {content: \"▾\";}#sk-container-id-1 div.sk-estimator input.sk-toggleable__control:checked~label.sk-toggleable__label {background-color: #d4ebff;}#sk-container-id-1 div.sk-label input.sk-toggleable__control:checked~label.sk-toggleable__label {background-color: #d4ebff;}#sk-container-id-1 input.sk-hidden--visually {border: 0;clip: rect(1px 1px 1px 1px);clip: rect(1px, 1px, 1px, 1px);height: 1px;margin: -1px;overflow: hidden;padding: 0;position: absolute;width: 1px;}#sk-container-id-1 div.sk-estimator {font-family: monospace;background-color: #f0f8ff;border: 1px dotted black;border-radius: 0.25em;box-sizing: border-box;margin-bottom: 0.5em;}#sk-container-id-1 div.sk-estimator:hover {background-color: #d4ebff;}#sk-container-id-1 div.sk-parallel-item::after {content: \"\";width: 100%;border-bottom: 1px solid gray;flex-grow: 1;}#sk-container-id-1 div.sk-label:hover label.sk-toggleable__label {background-color: #d4ebff;}#sk-container-id-1 div.sk-serial::before {content: \"\";position: absolute;border-left: 1px solid gray;box-sizing: border-box;top: 0;bottom: 0;left: 50%;z-index: 0;}#sk-container-id-1 div.sk-serial {display: flex;flex-direction: column;align-items: center;background-color: white;padding-right: 0.2em;padding-left: 0.2em;position: relative;}#sk-container-id-1 div.sk-item {position: relative;z-index: 1;}#sk-container-id-1 div.sk-parallel {display: flex;align-items: stretch;justify-content: center;background-color: white;position: relative;}#sk-container-id-1 div.sk-item::before, #sk-container-id-1 div.sk-parallel-item::before {content: \"\";position: absolute;border-left: 1px solid gray;box-sizing: border-box;top: 0;bottom: 0;left: 50%;z-index: -1;}#sk-container-id-1 div.sk-parallel-item {display: flex;flex-direction: column;z-index: 1;position: relative;background-color: white;}#sk-container-id-1 div.sk-parallel-item:first-child::after {align-self: flex-end;width: 50%;}#sk-container-id-1 div.sk-parallel-item:last-child::after {align-self: flex-start;width: 50%;}#sk-container-id-1 div.sk-parallel-item:only-child::after {width: 0;}#sk-container-id-1 div.sk-dashed-wrapped {border: 1px dashed gray;margin: 0 0.4em 0.5em 0.4em;box-sizing: border-box;padding-bottom: 0.4em;background-color: white;}#sk-container-id-1 div.sk-label label {font-family: monospace;font-weight: bold;display: inline-block;line-height: 1.2em;}#sk-container-id-1 div.sk-label-container {text-align: center;}#sk-container-id-1 div.sk-container {/* jupyter's `normalize.less` sets `[hidden] { display: none; }` but bootstrap.min.css set `[hidden] { display: none !important; }` so we also need the `!important` here to be able to override the default hidden behavior on the sphinx rendered scikit-learn.org. See: https://github.com/scikit-learn/scikit-learn/issues/21755 */display: inline-block !important;position: relative;}#sk-container-id-1 div.sk-text-repr-fallback {display: none;}</style><div id=\"sk-container-id-1\" class=\"sk-top-container\"><div class=\"sk-text-repr-fallback\"><pre>LogisticRegression()</pre><b>In a Jupyter environment, please rerun this cell to show the HTML representation or trust the notebook. <br />On GitHub, the HTML representation is unable to render, please try loading this page with nbviewer.org.</b></div><div class=\"sk-container\" hidden><div class=\"sk-item\"><div class=\"sk-estimator sk-toggleable\"><input class=\"sk-toggleable__control sk-hidden--visually\" id=\"sk-estimator-id-1\" type=\"checkbox\" checked><label for=\"sk-estimator-id-1\" class=\"sk-toggleable__label sk-toggleable__label-arrow\">LogisticRegression</label><div class=\"sk-toggleable__content\"><pre>LogisticRegression()</pre></div></div></div></div></div>"
            ]
          },
          "metadata": {},
          "execution_count": 24
        }
      ]
    },
    {
      "cell_type": "code",
      "source": [
        "# 모델 평가\n",
        "y_pred1 = logistic_model.predict(X_test1)"
      ],
      "metadata": {
        "id": "0NU7BbGAU_Ak"
      },
      "execution_count": 25,
      "outputs": []
    },
    {
      "cell_type": "code",
      "source": [
        "import matplotlib.pyplot as plt\n",
        "\n",
        "# 학습된 로지스틱 회귀 모델의 계수\n",
        "coefficients = logistic_model.coef_[0]\n",
        "\n",
        "# 각 피처와 그 계수를 연결\n",
        "feature_names = X_train1.columns\n",
        "coefficients_dict = dict(zip(feature_names, coefficients))\n",
        "\n",
        "# 계수의 절대값을 기준으로 내림차순 정렬\n",
        "sorted_coefficients = sorted(coefficients_dict.items(), key=lambda x: abs(x[1]), reverse=True)\n",
        "\n",
        "# 상위 N개의 피처만 선택 (예: 상위 10개)\n",
        "top_n = 10\n",
        "top_features = dict(sorted_coefficients[:top_n])\n",
        "\n",
        "# 그래프로 시각화\n",
        "plt.figure(figsize=(10, 6))\n",
        "plt.barh(range(len(top_features)), top_features.values(), align='center')\n",
        "plt.yticks(range(len(top_features)), top_features.keys())\n",
        "plt.xlabel('Coefficient Absolute Value')\n",
        "plt.ylabel('Features')\n",
        "plt.title('Top {} Feature Coefficients (Logistic Regression)'.format(top_n))\n",
        "plt.show()\n"
      ],
      "metadata": {
        "colab": {
          "base_uri": "https://localhost:8080/",
          "height": 564
        },
        "id": "SzYs3HLFVBuF",
        "outputId": "a7a1ec1e-fbb3-4255-a4ab-22235559ec52"
      },
      "execution_count": 26,
      "outputs": [
        {
          "output_type": "display_data",
          "data": {
            "text/plain": [
              "<Figure size 1000x600 with 1 Axes>"
            ],
            "image/png": "[encoded data removed]"
          },
          "metadata": {}
        }
      ]
    },
    {
      "cell_type": "code",
      "source": [
        "# 정확도 출력\n",
        "accuracy = accuracy_score(y_test1, y_pred1)\n",
        "print(\"Accuracy:\", accuracy)"
      ],
      "metadata": {
        "colab": {
          "base_uri": "https://localhost:8080/"
        },
        "id": "m4J6zT02VDCF",
        "outputId": "3af71cf1-edaa-422b-8002-fbc20ec2333c"
      },
      "execution_count": 27,
      "outputs": [
        {
          "output_type": "stream",
          "name": "stdout",
          "text": [
            "Accuracy: 0.69921875\n"
          ]
        }
      ]
    },
    {
      "cell_type": "code",
      "source": [
        "# 분류 보고서 출력\n",
        "classification_rep1 = classification_report(y_test1, y_pred1)\n",
        "print(\"Classification Report:\\n\", classification_rep1)\n"
      ],
      "metadata": {
        "colab": {
          "base_uri": "https://localhost:8080/"
        },
        "id": "GoMaqfaxVFCN",
        "outputId": "40d4a8b4-a97f-460f-8f31-40735dec4a6d"
      },
      "execution_count": 28,
      "outputs": [
        {
          "output_type": "stream",
          "name": "stdout",
          "text": [
            "Classification Report:\n",
            "               precision    recall  f1-score   support\n",
            "\n",
            "           0       0.69      0.65      0.67       238\n",
            "           1       0.71      0.74      0.72       274\n",
            "\n",
            "    accuracy                           0.70       512\n",
            "   macro avg       0.70      0.70      0.70       512\n",
            "weighted avg       0.70      0.70      0.70       512\n",
            "\n"
          ]
        }
      ]
    },
    {
      "cell_type": "code",
      "source": [
        "# 혼동 행렬 출력\n",
        "conf_matrix1 = confusion_matrix(y_test1, y_pred1)\n",
        "print(\"Confusion Matrix:\\n\", conf_matrix1)"
      ],
      "metadata": {
        "colab": {
          "base_uri": "https://localhost:8080/"
        },
        "id": "43ZIYdFzVGkc",
        "outputId": "e4bc6de5-d9ff-449d-8d1f-e1a52645dee6"
      },
      "execution_count": 29,
      "outputs": [
        {
          "output_type": "stream",
          "name": "stdout",
          "text": [
            "Confusion Matrix:\n",
            " [[155  83]\n",
            " [ 71 203]]\n"
          ]
        }
      ]
    },
    {
      "cell_type": "code",
      "source": [
        "# 검증데이터 평가\n",
        "val_pred1 = logistic_model.predict(val_input1)"
      ],
      "metadata": {
        "id": "_3kN0gB6VIz9"
      },
      "execution_count": 30,
      "outputs": []
    },
    {
      "cell_type": "code",
      "source": [
        "# 정확도 출력\n",
        "accuracy = accuracy_score(val_target1, val_pred1)\n",
        "print(\"Accuracy:\", accuracy)"
      ],
      "metadata": {
        "colab": {
          "base_uri": "https://localhost:8080/"
        },
        "id": "STnZWu0uVJs9",
        "outputId": "31d7b58e-7aae-4468-d1dd-efdc1c1e790d"
      },
      "execution_count": 31,
      "outputs": [
        {
          "output_type": "stream",
          "name": "stdout",
          "text": [
            "Accuracy: 0.695\n"
          ]
        }
      ]
    },
    {
      "cell_type": "code",
      "source": [
        "# 분류 보고서 출력\n",
        "classification_val1 = classification_report(val_target1, val_pred1)\n",
        "print(\"Classification Report:\\n\", classification_val1)\n"
      ],
      "metadata": {
        "colab": {
          "base_uri": "https://localhost:8080/"
        },
        "id": "ODfJK0eBVKsV",
        "outputId": "73569aa9-932b-4ddc-d2ba-373434802433"
      },
      "execution_count": 32,
      "outputs": [
        {
          "output_type": "stream",
          "name": "stdout",
          "text": [
            "Classification Report:\n",
            "               precision    recall  f1-score   support\n",
            "\n",
            "           0       0.71      0.66      0.68       100\n",
            "           1       0.68      0.73      0.71       100\n",
            "\n",
            "    accuracy                           0.69       200\n",
            "   macro avg       0.70      0.70      0.69       200\n",
            "weighted avg       0.70      0.69      0.69       200\n",
            "\n"
          ]
        }
      ]
    },
    {
      "cell_type": "code",
      "source": [
        "# 혼동 행렬 출력\n",
        "conf_matrix11 = confusion_matrix(val_target1, val_pred1)\n",
        "print(\"Confusion Matrix:\\n\", conf_matrix11)"
      ],
      "metadata": {
        "colab": {
          "base_uri": "https://localhost:8080/"
        },
        "id": "kAjbXItiVLz1",
        "outputId": "f88fdcb5-bbc7-4414-cef6-a2f7e672ca1f"
      },
      "execution_count": 33,
      "outputs": [
        {
          "output_type": "stream",
          "name": "stdout",
          "text": [
            "Confusion Matrix:\n",
            " [[66 34]\n",
            " [27 73]]\n"
          ]
        }
      ]
    },
    {
      "cell_type": "markdown",
      "source": [
        "# LGBM 모델"
      ],
      "metadata": {
        "id": "1-18ICtuVSHW"
      }
    },
    {
      "cell_type": "code",
      "source": [
        "import pandas as pd\n",
        "import lightgbm as lgb\n",
        "from sklearn.model_selection import train_test_split\n",
        "from sklearn.metrics import accuracy_score, classification_report, confusion_matrix\n",
        "\n",
        "# 데이터 준비 (독립 변수와 종속 변수 분리)\n",
        "X2 = df.drop(columns=['label'])\n",
        "y2 = df['label']\n",
        "val_input2 = valset.drop(columns=['label'])\n",
        "val_target2 = valset['label']\n",
        "\n",
        "# 컬럼 이름 정제 (공백과 특수 문자를 언더스코어(_)로 변경)\n",
        "val_input2.columns = val_input2.columns.str.replace('[^a-zA-Z0-9]', '_')\n",
        "X2.columns = X2.columns.str.replace('[^a-zA-Z0-9]', '_')\n",
        "\n",
        "# 학습 데이터와 테스트 데이터로 분할\n",
        "X_train2, X_test2, y_train2, y_test2 = train_test_split(X2, y2, test_size=0.2, random_state=42)\n",
        "\n",
        "# LightGBM 데이터셋 생성\n",
        "train_data2 = lgb.Dataset(X_train2, label=y_train2)\n",
        "test_data2 = lgb.Dataset(X_test2, label=y_test2, reference=train_data2)\n",
        "\n",
        "# LightGBM 모델 설정 (나머지 코드는 이전과 동일)\n",
        "params = {\n",
        "    'objective': 'binary',  # 이진 분류 설정\n",
        "    'metric': 'binary_error',  # 이진 분류 정확도 측정\n",
        "    'boosting_type': 'gbdt',  # Gradient Boosting Decision Tree\n",
        "    'num_leaves': 31,  # 트리의 최대 잎 노드 수\n",
        "    'learning_rate': 0.05,  # 학습률\n",
        "    'feature_fraction': 0.9,  # 각 트리에서 사용할 피처 비율\n",
        "}"
      ],
      "metadata": {
        "colab": {
          "base_uri": "https://localhost:8080/"
        },
        "id": "X18aDqP9VM_9",
        "outputId": "e4124256-e7cb-44ff-a04f-2f598689d80c"
      },
      "execution_count": 35,
      "outputs": [
        {
          "output_type": "stream",
          "name": "stderr",
          "text": [
            "<ipython-input-35-e9cec84fb0bb>:13: FutureWarning: The default value of regex will change from True to False in a future version.\n",
            "  val_input2.columns = val_input2.columns.str.replace('[^a-zA-Z0-9]', '_')\n",
            "<ipython-input-35-e9cec84fb0bb>:14: FutureWarning: The default value of regex will change from True to False in a future version.\n",
            "  X2.columns = X2.columns.str.replace('[^a-zA-Z0-9]', '_')\n"
          ]
        }
      ]
    },
    {
      "cell_type": "code",
      "source": [
        "# LightGBM 모델 학습\n",
        "num_round = 10  # 트리 수 (조정 가능)\n",
        "lgb_model = lgb.train(params, train_data2, num_round)"
      ],
      "metadata": {
        "colab": {
          "base_uri": "https://localhost:8080/"
        },
        "id": "T1SkjOxyVUFO",
        "outputId": "0e578171-91cd-4b15-80eb-99ad48d50a8e"
      },
      "execution_count": 36,
      "outputs": [
        {
          "output_type": "stream",
          "name": "stdout",
          "text": [
            "[LightGBM] [Info] Number of positive: 1078, number of negative: 969\n",
            "[LightGBM] [Info] Auto-choosing col-wise multi-threading, the overhead of testing was 0.047957 seconds.\n",
            "You can set `force_col_wise=true` to remove the overhead.\n",
            "[LightGBM] [Info] Total Bins 141\n",
            "[LightGBM] [Info] Number of data points in the train set: 2047, number of used features: 7\n",
            "[LightGBM] [Info] [binary:BoostFromScore]: pavg=0.526624 -> initscore=0.106598\n",
            "[LightGBM] [Info] Start training from score 0.106598\n"
          ]
        }
      ]
    },
    {
      "cell_type": "code",
      "source": [
        "import matplotlib.pyplot as plt\n",
        "\n",
        "# LightGBM 모델에서 피쳐 중요도 가져오기\n",
        "feature_importance = lgb_model.feature_importance()\n",
        "feature_names = X_train2.columns\n",
        "\n",
        "# 중요도를 피쳐 이름과 연결\n",
        "feature_importance_dict = dict(zip(feature_names, feature_importance))\n",
        "\n",
        "# 중요도를 기준으로 내림차순 정렬\n",
        "sorted_feature_importance = sorted(feature_importance_dict.items(), key=lambda x: x[1], reverse=True)\n",
        "\n",
        "# 상위 N개의 피쳐만 선택 (예: 상위 10개)\n",
        "top_n = 10\n",
        "top_features = dict(sorted_feature_importance[:top_n])\n",
        "\n",
        "# 그래프로 시각화\n",
        "plt.figure(figsize=(10, 6))\n",
        "plt.barh(range(len(top_features)), top_features.values(), align='center')\n",
        "plt.yticks(range(len(top_features)), top_features.keys())\n",
        "plt.xlabel('Feature Importance')\n",
        "plt.ylabel('Features')\n",
        "plt.title('Top {} Feature Importance (LGBM)'.format(top_n))\n",
        "plt.show()\n"
      ],
      "metadata": {
        "colab": {
          "base_uri": "https://localhost:8080/",
          "height": 564
        },
        "id": "wxgelT_CVaU3",
        "outputId": "4d3fb8a9-e281-449e-945e-b3abc9882d2f"
      },
      "execution_count": 37,
      "outputs": [
        {
          "output_type": "display_data",
          "data": {
            "text/plain": [
              "<Figure size 1000x600 with 1 Axes>"
            ],
            "image/png": "[encoded data removed]"
          },
          "metadata": {}
        }
      ]
    },
    {
      "cell_type": "code",
      "source": [
        "# 모델 예측\n",
        "y_pred2 = lgb_model.predict(X_test2, num_iteration=lgb_model.best_iteration)\n",
        "y_pred_binary = [1 if pred > 0.5 else 0 for pred in y_pred2]  # 이진 예측"
      ],
      "metadata": {
        "id": "lRq_P01VVbhP"
      },
      "execution_count": 38,
      "outputs": []
    },
    {
      "cell_type": "code",
      "source": [
        "# 정확도 출력\n",
        "accuracy = accuracy_score(y_test2, y_pred_binary)\n",
        "print(\"Accuracy:\", accuracy)"
      ],
      "metadata": {
        "colab": {
          "base_uri": "https://localhost:8080/"
        },
        "id": "3HSSe2QiVc0P",
        "outputId": "8ddf6472-1b9e-4a68-87a4-5b6d3360ad37"
      },
      "execution_count": 39,
      "outputs": [
        {
          "output_type": "stream",
          "name": "stdout",
          "text": [
            "Accuracy: 0.75390625\n"
          ]
        }
      ]
    },
    {
      "cell_type": "code",
      "source": [
        "# 분류 보고서 출력\n",
        "classification_rep2 = classification_report(y_test2, y_pred_binary)\n",
        "print(\"Classification Report:\\n\", classification_rep2)"
      ],
      "metadata": {
        "colab": {
          "base_uri": "https://localhost:8080/"
        },
        "id": "2xDPmpRZVfdv",
        "outputId": "29e07ff5-4ab3-4bfa-d56f-528fa767ed85"
      },
      "execution_count": 43,
      "outputs": [
        {
          "output_type": "stream",
          "name": "stdout",
          "text": [
            "Classification Report:\n",
            "               precision    recall  f1-score   support\n",
            "\n",
            "           0       0.76      0.69      0.72       238\n",
            "           1       0.75      0.81      0.78       274\n",
            "\n",
            "    accuracy                           0.75       512\n",
            "   macro avg       0.75      0.75      0.75       512\n",
            "weighted avg       0.75      0.75      0.75       512\n",
            "\n"
          ]
        }
      ]
    },
    {
      "cell_type": "code",
      "source": [
        "# 혼동 행렬 출력\n",
        "conf_matrix2 = confusion_matrix(y_test2, y_pred_binary)\n",
        "print(\"Confusion Matrix:\\n\", conf_matrix2)"
      ],
      "metadata": {
        "colab": {
          "base_uri": "https://localhost:8080/"
        },
        "id": "SnB2d_bGVgkY",
        "outputId": "061a3d2d-be91-43b5-9b59-064791edd86b"
      },
      "execution_count": 44,
      "outputs": [
        {
          "output_type": "stream",
          "name": "stdout",
          "text": [
            "Confusion Matrix:\n",
            " [[164  74]\n",
            " [ 52 222]]\n"
          ]
        }
      ]
    },
    {
      "cell_type": "code",
      "source": [
        "# 검증 데이터 예측\n",
        "val_pred2 = lgb_model.predict(val_input2, num_iteration=lgb_model.best_iteration)\n",
        "val_pred_binary = [1 if pred > 0.5 else 0 for pred in val_pred2]  # 이진 예측"
      ],
      "metadata": {
        "id": "mmpWTlnWVt2h"
      },
      "execution_count": 45,
      "outputs": []
    },
    {
      "cell_type": "code",
      "source": [
        "len(val_pred_binary)"
      ],
      "metadata": {
        "colab": {
          "base_uri": "https://localhost:8080/"
        },
        "id": "S40TFFZhVuyR",
        "outputId": "b0a957e5-3765-4c9d-f2dc-931fcaeb3114"
      },
      "execution_count": 46,
      "outputs": [
        {
          "output_type": "execute_result",
          "data": {
            "text/plain": [
              "200"
            ]
          },
          "metadata": {},
          "execution_count": 46
        }
      ]
    },
    {
      "cell_type": "code",
      "source": [
        "# 정확도 출력\n",
        "accuracy = accuracy_score(val_target2, val_pred_binary)\n",
        "print(\"Accuracy:\", accuracy)"
      ],
      "metadata": {
        "colab": {
          "base_uri": "https://localhost:8080/"
        },
        "id": "O3AfqzrZVvrx",
        "outputId": "a693d21c-f7e4-4a22-aac1-171ced5f0bca"
      },
      "execution_count": 47,
      "outputs": [
        {
          "output_type": "stream",
          "name": "stdout",
          "text": [
            "Accuracy: 0.755\n"
          ]
        }
      ]
    },
    {
      "cell_type": "code",
      "source": [
        "# 분류 보고서 출력\n",
        "classification_val22 = classification_report(val_target2, val_pred_binary)\n",
        "print(\"Classification Report:\\n\", classification_val22)"
      ],
      "metadata": {
        "colab": {
          "base_uri": "https://localhost:8080/"
        },
        "id": "LDVPAEmbVymq",
        "outputId": "038105d4-68ff-4e09-c0d5-78b0960a3153"
      },
      "execution_count": 48,
      "outputs": [
        {
          "output_type": "stream",
          "name": "stdout",
          "text": [
            "Classification Report:\n",
            "               precision    recall  f1-score   support\n",
            "\n",
            "           0       0.79      0.70      0.74       100\n",
            "           1       0.73      0.81      0.77       100\n",
            "\n",
            "    accuracy                           0.76       200\n",
            "   macro avg       0.76      0.76      0.75       200\n",
            "weighted avg       0.76      0.76      0.75       200\n",
            "\n"
          ]
        }
      ]
    },
    {
      "cell_type": "markdown",
      "source": [
        "# RandomForest"
      ],
      "metadata": {
        "id": "wZdJIEtOV4Nh"
      }
    },
    {
      "cell_type": "code",
      "source": [
        "import pandas as pd\n",
        "from sklearn.model_selection import train_test_split\n",
        "from sklearn.ensemble import RandomForestClassifier\n",
        "from sklearn.metrics import accuracy_score, classification_report, confusion_matrix\n",
        "\n",
        "# 데이터 준비 (독립 변수와 종속 변수 분리)\n",
        "X3 = df.drop(columns=['label'])\n",
        "y3 = df['label']\n",
        "\n",
        "val_input3 = valset.drop(columns=['label'])\n",
        "val_target3 = valset['label']\n"
      ],
      "metadata": {
        "id": "fx6yN6MIVz6C"
      },
      "execution_count": 50,
      "outputs": []
    },
    {
      "cell_type": "code",
      "source": [
        "# 학습 데이터와 테스트 데이터로 분할\n",
        "X_train3, X_test3, y_train3, y_test3 = train_test_split(X3, y3, test_size=0.2, random_state=42)"
      ],
      "metadata": {
        "id": "LAS4jBy2V6qb"
      },
      "execution_count": 51,
      "outputs": []
    },
    {
      "cell_type": "code",
      "source": [
        "# 랜덤 포레스트 모델 생성 및 학습\n",
        "rf_model3 = RandomForestClassifier(random_state=42)\n",
        "rf_model3.fit(X_train3, y_train3)"
      ],
      "metadata": {
        "colab": {
          "base_uri": "https://localhost:8080/",
          "height": 75
        },
        "id": "FFb0mbVlV_1L",
        "outputId": "0f6bf61e-6432-4e7d-ba23-f8f3b724689a"
      },
      "execution_count": 52,
      "outputs": [
        {
          "output_type": "execute_result",
          "data": {
            "text/plain": [
              "RandomForestClassifier(random_state=42)"
            ],
            "text/html": [
              "<style>#sk-container-id-2 {color: black;background-color: white;}#sk-container-id-2 pre{padding: 0;}#sk-container-id-2 div.sk-toggleable {background-color: white;}#sk-container-id-2 label.sk-toggleable__label {cursor: pointer;display: block;width: 100%;margin-bottom: 0;padding: 0.3em;box-sizing: border-box;text-align: center;}#sk-container-id-2 label.sk-toggleable__label-arrow:before {content: \"▸\";float: left;margin-right: 0.25em;color: #696969;}#sk-container-id-2 label.sk-toggleable__label-arrow:hover:before {color: black;}#sk-container-id-2 div.sk-estimator:hover label.sk-toggleable__label-arrow:before {color: black;}#sk-container-id-2 div.sk-toggleable__content {max-height: 0;max-width: 0;overflow: hidden;text-align: left;background-color: #f0f8ff;}#sk-container-id-2 div.sk-toggleable__content pre {margin: 0.2em;color: black;border-radius: 0.25em;background-color: #f0f8ff;}#sk-container-id-2 input.sk-toggleable__control:checked~div.sk-toggleable__content {max-height: 200px;max-width: 100%;overflow: auto;}#sk-container-id-2 input.sk-toggleable__control:checked~label.sk-toggleable__label-arrow:before {content: \"▾\";}#sk-container-id-2 div.sk-estimator input.sk-toggleable__control:checked~label.sk-toggleable__label {background-color: #d4ebff;}#sk-container-id-2 div.sk-label input.sk-toggleable__control:checked~label.sk-toggleable__label {background-color: #d4ebff;}#sk-container-id-2 input.sk-hidden--visually {border: 0;clip: rect(1px 1px 1px 1px);clip: rect(1px, 1px, 1px, 1px);height: 1px;margin: -1px;overflow: hidden;padding: 0;position: absolute;width: 1px;}#sk-container-id-2 div.sk-estimator {font-family: monospace;background-color: #f0f8ff;border: 1px dotted black;border-radius: 0.25em;box-sizing: border-box;margin-bottom: 0.5em;}#sk-container-id-2 div.sk-estimator:hover {background-color: #d4ebff;}#sk-container-id-2 div.sk-parallel-item::after {content: \"\";width: 100%;border-bottom: 1px solid gray;flex-grow: 1;}#sk-container-id-2 div.sk-label:hover label.sk-toggleable__label {background-color: #d4ebff;}#sk-container-id-2 div.sk-serial::before {content: \"\";position: absolute;border-left: 1px solid gray;box-sizing: border-box;top: 0;bottom: 0;left: 50%;z-index: 0;}#sk-container-id-2 div.sk-serial {display: flex;flex-direction: column;align-items: center;background-color: white;padding-right: 0.2em;padding-left: 0.2em;position: relative;}#sk-container-id-2 div.sk-item {position: relative;z-index: 1;}#sk-container-id-2 div.sk-parallel {display: flex;align-items: stretch;justify-content: center;background-color: white;position: relative;}#sk-container-id-2 div.sk-item::before, #sk-container-id-2 div.sk-parallel-item::before {content: \"\";position: absolute;border-left: 1px solid gray;box-sizing: border-box;top: 0;bottom: 0;left: 50%;z-index: -1;}#sk-container-id-2 div.sk-parallel-item {display: flex;flex-direction: column;z-index: 1;position: relative;background-color: white;}#sk-container-id-2 div.sk-parallel-item:first-child::after {align-self: flex-end;width: 50%;}#sk-container-id-2 div.sk-parallel-item:last-child::after {align-self: flex-start;width: 50%;}#sk-container-id-2 div.sk-parallel-item:only-child::after {width: 0;}#sk-container-id-2 div.sk-dashed-wrapped {border: 1px dashed gray;margin: 0 0.4em 0.5em 0.4em;box-sizing: border-box;padding-bottom: 0.4em;background-color: white;}#sk-container-id-2 div.sk-label label {font-family: monospace;font-weight: bold;display: inline-block;line-height: 1.2em;}#sk-container-id-2 div.sk-label-container {text-align: center;}#sk-container-id-2 div.sk-container {/* jupyter's `normalize.less` sets `[hidden] { display: none; }` but bootstrap.min.css set `[hidden] { display: none !important; }` so we also need the `!important` here to be able to override the default hidden behavior on the sphinx rendered scikit-learn.org. See: https://github.com/scikit-learn/scikit-learn/issues/21755 */display: inline-block !important;position: relative;}#sk-container-id-2 div.sk-text-repr-fallback {display: none;}</style><div id=\"sk-container-id-2\" class=\"sk-top-container\"><div class=\"sk-text-repr-fallback\"><pre>RandomForestClassifier(random_state=42)</pre><b>In a Jupyter environment, please rerun this cell to show the HTML representation or trust the notebook. <br />On GitHub, the HTML representation is unable to render, please try loading this page with nbviewer.org.</b></div><div class=\"sk-container\" hidden><div class=\"sk-item\"><div class=\"sk-estimator sk-toggleable\"><input class=\"sk-toggleable__control sk-hidden--visually\" id=\"sk-estimator-id-2\" type=\"checkbox\" checked><label for=\"sk-estimator-id-2\" class=\"sk-toggleable__label sk-toggleable__label-arrow\">RandomForestClassifier</label><div class=\"sk-toggleable__content\"><pre>RandomForestClassifier(random_state=42)</pre></div></div></div></div></div>"
            ]
          },
          "metadata": {},
          "execution_count": 52
        }
      ]
    },
    {
      "cell_type": "code",
      "source": [
        "import matplotlib.pyplot as plt\n",
        "\n",
        "# 학습된 Random Forest 모델에서 피처 중요도 가져오기\n",
        "feature_importance = rf_model3.feature_importances_\n",
        "\n",
        "# 각 피처와 그 중요도를 연결\n",
        "feature_names = X_train3.columns\n",
        "feature_importance_dict = dict(zip(feature_names, feature_importance))\n",
        "\n",
        "# 중요도를 기준으로 내림차순 정렬\n",
        "sorted_feature_importance = sorted(feature_importance_dict.items(), key=lambda x: x[1], reverse=True)\n",
        "\n",
        "# 상위 N개의 피처만 선택 (예: 상위 10개)\n",
        "top_n = 10\n",
        "top_features = dict(sorted_feature_importance[:top_n])\n",
        "\n",
        "# 그래프로 시각화\n",
        "plt.figure(figsize=(10, 6))\n",
        "plt.barh(range(len(top_features)), top_features.values(), align='center')\n",
        "plt.yticks(range(len(top_features)), top_features.keys())\n",
        "plt.xlabel('Feature Importance')\n",
        "plt.ylabel('Features')\n",
        "plt.title('Top {} Feature Importance (Random Forest)'.format(top_n))\n",
        "plt.show()\n"
      ],
      "metadata": {
        "colab": {
          "base_uri": "https://localhost:8080/",
          "height": 564
        },
        "id": "-eRUmybdWBqc",
        "outputId": "1571d8ed-3a2c-4247-d0c5-5bb88caa53d4"
      },
      "execution_count": 53,
      "outputs": [
        {
          "output_type": "display_data",
          "data": {
            "text/plain": [
              "<Figure size 1000x600 with 1 Axes>"
            ],
            "image/png": "[encoded data removed]"
          },
          "metadata": {}
        }
      ]
    },
    {
      "cell_type": "code",
      "source": [
        "# 모델 예측\n",
        "y_pred3 = rf_model3.predict(X_test3)"
      ],
      "metadata": {
        "id": "A9UeXAbiWChU"
      },
      "execution_count": 54,
      "outputs": []
    },
    {
      "cell_type": "code",
      "source": [
        "# 정확도 출력\n",
        "accuracy = accuracy_score(y_test3, y_pred3)\n",
        "print(\"Accuracy:\", accuracy)\n",
        "\n",
        "# 분류 보고서 출력\n",
        "classification_rep = classification_report(y_test3, y_pred3)\n",
        "print(\"Classification Report:\\n\", classification_rep)\n",
        "\n",
        "# 혼동 행렬 출력\n",
        "conf_matrix = confusion_matrix(y_test3, y_pred3)\n",
        "print(\"Confusion Matrix:\\n\", conf_matrix)"
      ],
      "metadata": {
        "colab": {
          "base_uri": "https://localhost:8080/"
        },
        "id": "uAdIsHYiWDps",
        "outputId": "6a2b5ed5-88c7-4b70-b3fa-fcc5aa8b2918"
      },
      "execution_count": 55,
      "outputs": [
        {
          "output_type": "stream",
          "name": "stdout",
          "text": [
            "Accuracy: 0.798828125\n",
            "Classification Report:\n",
            "               precision    recall  f1-score   support\n",
            "\n",
            "           0       0.81      0.74      0.77       238\n",
            "           1       0.79      0.85      0.82       274\n",
            "\n",
            "    accuracy                           0.80       512\n",
            "   macro avg       0.80      0.80      0.80       512\n",
            "weighted avg       0.80      0.80      0.80       512\n",
            "\n",
            "Confusion Matrix:\n",
            " [[177  61]\n",
            " [ 42 232]]\n"
          ]
        }
      ]
    },
    {
      "cell_type": "code",
      "source": [
        "# 모델 예측\n",
        "val_pred3 = rf_model3.predict(val_input3)"
      ],
      "metadata": {
        "id": "bhJeqv8UWEic"
      },
      "execution_count": 56,
      "outputs": []
    },
    {
      "cell_type": "code",
      "source": [
        "# 정확도 출력\n",
        "accuracy = accuracy_score(val_target3, val_pred3)\n",
        "print(\"Accuracy:\", accuracy)\n",
        "\n",
        "# 분류 보고서 출력\n",
        "classification_val3 = classification_report(val_target3, val_pred3)\n",
        "print(\"Classification Report:\\n\", classification_val3)\n",
        "\n",
        "# 혼동 행렬 출력\n",
        "conf_matrix33 = confusion_matrix(y_test3, y_pred3)\n",
        "print(\"Confusion Matrix:\\n\", conf_matrix33)"
      ],
      "metadata": {
        "colab": {
          "base_uri": "https://localhost:8080/"
        },
        "id": "nVMBM8eQWFts",
        "outputId": "0063043b-a6c4-4a5c-9c1c-fc6ccc22eab3"
      },
      "execution_count": 57,
      "outputs": [
        {
          "output_type": "stream",
          "name": "stdout",
          "text": [
            "Accuracy: 0.79\n",
            "Classification Report:\n",
            "               precision    recall  f1-score   support\n",
            "\n",
            "           0       0.79      0.79      0.79       100\n",
            "           1       0.79      0.79      0.79       100\n",
            "\n",
            "    accuracy                           0.79       200\n",
            "   macro avg       0.79      0.79      0.79       200\n",
            "weighted avg       0.79      0.79      0.79       200\n",
            "\n",
            "Confusion Matrix:\n",
            " [[177  61]\n",
            " [ 42 232]]\n"
          ]
        }
      ]
    },
    {
      "cell_type": "markdown",
      "source": [
        "# SVM"
      ],
      "metadata": {
        "id": "xXIEyAyuWHsZ"
      }
    },
    {
      "cell_type": "code",
      "source": [
        "import pandas as pd\n",
        "from sklearn.model_selection import train_test_split\n",
        "from sklearn.svm import SVC\n",
        "from sklearn.metrics import accuracy_score, classification_report, confusion_matrix\n",
        "\n",
        "# 데이터 준비 (독립 변수와 종속 변수 분리)\n",
        "X4 = df.drop(columns=['label'])\n",
        "y4 = df['label']\n",
        "\n",
        "val_input4 = valset.drop(columns=['label'])\n",
        "val_target4 = valset['label']"
      ],
      "metadata": {
        "id": "chC8seLZWGX9"
      },
      "execution_count": 59,
      "outputs": []
    },
    {
      "cell_type": "code",
      "source": [
        "# 학습 데이터와 테스트 데이터로 분할\n",
        "X_train4, X_test4, y_train4, y_test4 = train_test_split(X4, y4, test_size=0.2, random_state=42)"
      ],
      "metadata": {
        "id": "2FRhsTEOWJi9"
      },
      "execution_count": 60,
      "outputs": []
    },
    {
      "cell_type": "code",
      "source": [
        "# SVM 모델 생성 및 학습\n",
        "svm_model = SVC(random_state=42)\n",
        "svm_model.fit(X_train4, y_train4)"
      ],
      "metadata": {
        "colab": {
          "base_uri": "https://localhost:8080/",
          "height": 75
        },
        "id": "e70z5m9QWOR-",
        "outputId": "79103f91-8e58-4418-fe37-7b32a46742d2"
      },
      "execution_count": 61,
      "outputs": [
        {
          "output_type": "execute_result",
          "data": {
            "text/plain": [
              "SVC(random_state=42)"
            ],
            "text/html": [
              "<style>#sk-container-id-3 {color: black;background-color: white;}#sk-container-id-3 pre{padding: 0;}#sk-container-id-3 div.sk-toggleable {background-color: white;}#sk-container-id-3 label.sk-toggleable__label {cursor: pointer;display: block;width: 100%;margin-bottom: 0;padding: 0.3em;box-sizing: border-box;text-align: center;}#sk-container-id-3 label.sk-toggleable__label-arrow:before {content: \"▸\";float: left;margin-right: 0.25em;color: #696969;}#sk-container-id-3 label.sk-toggleable__label-arrow:hover:before {color: black;}#sk-container-id-3 div.sk-estimator:hover label.sk-toggleable__label-arrow:before {color: black;}#sk-container-id-3 div.sk-toggleable__content {max-height: 0;max-width: 0;overflow: hidden;text-align: left;background-color: #f0f8ff;}#sk-container-id-3 div.sk-toggleable__content pre {margin: 0.2em;color: black;border-radius: 0.25em;background-color: #f0f8ff;}#sk-container-id-3 input.sk-toggleable__control:checked~div.sk-toggleable__content {max-height: 200px;max-width: 100%;overflow: auto;}#sk-container-id-3 input.sk-toggleable__control:checked~label.sk-toggleable__label-arrow:before {content: \"▾\";}#sk-container-id-3 div.sk-estimator input.sk-toggleable__control:checked~label.sk-toggleable__label {background-color: #d4ebff;}#sk-container-id-3 div.sk-label input.sk-toggleable__control:checked~label.sk-toggleable__label {background-color: #d4ebff;}#sk-container-id-3 input.sk-hidden--visually {border: 0;clip: rect(1px 1px 1px 1px);clip: rect(1px, 1px, 1px, 1px);height: 1px;margin: -1px;overflow: hidden;padding: 0;position: absolute;width: 1px;}#sk-container-id-3 div.sk-estimator {font-family: monospace;background-color: #f0f8ff;border: 1px dotted black;border-radius: 0.25em;box-sizing: border-box;margin-bottom: 0.5em;}#sk-container-id-3 div.sk-estimator:hover {background-color: #d4ebff;}#sk-container-id-3 div.sk-parallel-item::after {content: \"\";width: 100%;border-bottom: 1px solid gray;flex-grow: 1;}#sk-container-id-3 div.sk-label:hover label.sk-toggleable__label {background-color: #d4ebff;}#sk-container-id-3 div.sk-serial::before {content: \"\";position: absolute;border-left: 1px solid gray;box-sizing: border-box;top: 0;bottom: 0;left: 50%;z-index: 0;}#sk-container-id-3 div.sk-serial {display: flex;flex-direction: column;align-items: center;background-color: white;padding-right: 0.2em;padding-left: 0.2em;position: relative;}#sk-container-id-3 div.sk-item {position: relative;z-index: 1;}#sk-container-id-3 div.sk-parallel {display: flex;align-items: stretch;justify-content: center;background-color: white;position: relative;}#sk-container-id-3 div.sk-item::before, #sk-container-id-3 div.sk-parallel-item::before {content: \"\";position: absolute;border-left: 1px solid gray;box-sizing: border-box;top: 0;bottom: 0;left: 50%;z-index: -1;}#sk-container-id-3 div.sk-parallel-item {display: flex;flex-direction: column;z-index: 1;position: relative;background-color: white;}#sk-container-id-3 div.sk-parallel-item:first-child::after {align-self: flex-end;width: 50%;}#sk-container-id-3 div.sk-parallel-item:last-child::after {align-self: flex-start;width: 50%;}#sk-container-id-3 div.sk-parallel-item:only-child::after {width: 0;}#sk-container-id-3 div.sk-dashed-wrapped {border: 1px dashed gray;margin: 0 0.4em 0.5em 0.4em;box-sizing: border-box;padding-bottom: 0.4em;background-color: white;}#sk-container-id-3 div.sk-label label {font-family: monospace;font-weight: bold;display: inline-block;line-height: 1.2em;}#sk-container-id-3 div.sk-label-container {text-align: center;}#sk-container-id-3 div.sk-container {/* jupyter's `normalize.less` sets `[hidden] { display: none; }` but bootstrap.min.css set `[hidden] { display: none !important; }` so we also need the `!important` here to be able to override the default hidden behavior on the sphinx rendered scikit-learn.org. See: https://github.com/scikit-learn/scikit-learn/issues/21755 */display: inline-block !important;position: relative;}#sk-container-id-3 div.sk-text-repr-fallback {display: none;}</style><div id=\"sk-container-id-3\" class=\"sk-top-container\"><div class=\"sk-text-repr-fallback\"><pre>SVC(random_state=42)</pre><b>In a Jupyter environment, please rerun this cell to show the HTML representation or trust the notebook. <br />On GitHub, the HTML representation is unable to render, please try loading this page with nbviewer.org.</b></div><div class=\"sk-container\" hidden><div class=\"sk-item\"><div class=\"sk-estimator sk-toggleable\"><input class=\"sk-toggleable__control sk-hidden--visually\" id=\"sk-estimator-id-3\" type=\"checkbox\" checked><label for=\"sk-estimator-id-3\" class=\"sk-toggleable__label sk-toggleable__label-arrow\">SVC</label><div class=\"sk-toggleable__content\"><pre>SVC(random_state=42)</pre></div></div></div></div></div>"
            ]
          },
          "metadata": {},
          "execution_count": 61
        }
      ]
    },
    {
      "cell_type": "code",
      "source": [
        "# 모델 예측\n",
        "y_pred4 = svm_model.predict(X_test4)\n",
        "\n",
        "# 정확도 출력\n",
        "accuracy = accuracy_score(y_test4, y_pred4)\n",
        "print(\"Accuracy:\", accuracy)\n",
        "\n",
        "# 분류 보고서 출력\n",
        "classification_rep = classification_report(y_test4, y_pred4)\n",
        "print(\"Classification Report:\\n\", classification_rep)\n",
        "\n",
        "# 혼동 행렬 출력\n",
        "conf_matrix = confusion_matrix(y_test4, y_pred4)\n",
        "print(\"Confusion Matrix:\\n\", conf_matrix)"
      ],
      "metadata": {
        "colab": {
          "base_uri": "https://localhost:8080/"
        },
        "id": "uq9IKmMWWPCd",
        "outputId": "b5369c1d-3d34-4503-c98c-8091ea719ac8"
      },
      "execution_count": 62,
      "outputs": [
        {
          "output_type": "stream",
          "name": "stdout",
          "text": [
            "Accuracy: 0.673828125\n",
            "Classification Report:\n",
            "               precision    recall  f1-score   support\n",
            "\n",
            "           0       0.64      0.68      0.66       238\n",
            "           1       0.70      0.67      0.69       274\n",
            "\n",
            "    accuracy                           0.67       512\n",
            "   macro avg       0.67      0.67      0.67       512\n",
            "weighted avg       0.68      0.67      0.67       512\n",
            "\n",
            "Confusion Matrix:\n",
            " [[161  77]\n",
            " [ 90 184]]\n"
          ]
        }
      ]
    },
    {
      "cell_type": "code",
      "source": [
        "# 검증 데이터 예측\n",
        "val_pred4 = svm_model.predict(val_input4)\n",
        "\n",
        "# 정확도 출력\n",
        "accuracy = accuracy_score(val_target4, val_pred4)\n",
        "print(\"Accuracy:\", accuracy)\n",
        "\n",
        "# 분류 보고서 출력\n",
        "classification_val4 = classification_report(val_target4, val_pred4)\n",
        "print(\"Classification Report:\\n\", classification_val4)\n",
        "\n",
        "# 혼동 행렬 출력\n",
        "conf_matrix44 = confusion_matrix(val_target4, val_pred4)\n",
        "print(\"Confusion Matrix:\\n\", conf_matrix44)"
      ],
      "metadata": {
        "colab": {
          "base_uri": "https://localhost:8080/"
        },
        "id": "AfeYu_ChWP3m",
        "outputId": "06467ee9-27fc-488e-ca74-c2a04cb9a082"
      },
      "execution_count": 63,
      "outputs": [
        {
          "output_type": "stream",
          "name": "stdout",
          "text": [
            "Accuracy: 0.68\n",
            "Classification Report:\n",
            "               precision    recall  f1-score   support\n",
            "\n",
            "           0       0.67      0.70      0.69       100\n",
            "           1       0.69      0.66      0.67       100\n",
            "\n",
            "    accuracy                           0.68       200\n",
            "   macro avg       0.68      0.68      0.68       200\n",
            "weighted avg       0.68      0.68      0.68       200\n",
            "\n",
            "Confusion Matrix:\n",
            " [[70 30]\n",
            " [34 66]]\n"
          ]
        }
      ]
    },
    {
      "cell_type": "code",
      "source": [
        "import matplotlib.pyplot as plt\n",
        "import numpy as np\n",
        "\n",
        "# 선형 SVM 모델 생성 및 학습\n",
        "svm_model = SVC(kernel='linear', random_state=42)\n",
        "svm_model.fit(X_train4, y_train4)\n",
        "\n",
        "# 모델 계수를 가져옵니다\n",
        "coefs = np.abs(svm_model.coef_[0])\n",
        "\n",
        "# 피처 이름과 계수를 연결\n",
        "feature_names = X_train4.columns\n",
        "feature_importance_dict = dict(zip(feature_names, coefs))\n",
        "\n",
        "# 중요도를 기준으로 내림차순 정렬\n",
        "sorted_feature_importance = sorted(feature_importance_dict.items(), key=lambda x: x[1], reverse=True)\n",
        "\n",
        "# 상위 N개의 피처만 선택 (예: 상위 10개)\n",
        "top_n = 10\n",
        "top_features = dict(sorted_feature_importance[:top_n])\n",
        "\n",
        "# 그래프로 시각화\n",
        "plt.figure(figsize=(10, 6))\n",
        "plt.barh(list(top_features.keys()), list(top_features.values()))\n",
        "plt.xlabel('Feature Importance')\n",
        "plt.ylabel('Features')\n",
        "plt.title(f'Top {top_n} Feature Importance in Linear SVM Model')\n",
        "plt.gca().invert_yaxis() # 피처를 중요도 높은 순으로 표시\n",
        "plt.show()"
      ],
      "metadata": {
        "colab": {
          "base_uri": "https://localhost:8080/",
          "height": 564
        },
        "id": "zSr2yI7FWRN2",
        "outputId": "8a212bb0-7e6a-4a86-c2c5-e734a7c6e7f8"
      },
      "execution_count": 64,
      "outputs": [
        {
          "output_type": "display_data",
          "data": {
            "text/plain": [
              "<Figure size 1000x600 with 1 Axes>"
            ],
            "image/png": "[encoded data removed]"
          },
          "metadata": {}
        }
      ]
    },
    {
      "cell_type": "markdown",
      "source": [
        "# LSTM"
      ],
      "metadata": {
        "id": "B8BiKoLtWW-m"
      }
    },
    {
      "cell_type": "code",
      "source": [
        "import pandas as pd\n",
        "import numpy as np\n",
        "from sklearn.model_selection import train_test_split\n",
        "from sklearn.preprocessing import StandardScaler\n",
        "from tensorflow.keras.models import Sequential\n",
        "from tensorflow.keras.layers import LSTM, Dense, Dropout\n",
        "from tensorflow.keras.utils import to_categorical\n",
        "\n",
        "# 데이터 준비 (독립 변수와 종속 변수 분리)\n",
        "X5 = df.drop(columns=['label'])\n",
        "y5 = df['label']\n",
        "\n",
        "val_input5 = valset.drop(columns=['label'])\n",
        "val_target5 = valset['label']\n",
        "\n",
        "\n",
        "# 학습 데이터와 테스트 데이터로 분할\n",
        "X_train5, X_test5, y_train5, y_test5 = train_test_split(X5, y5, test_size=0.2, random_state=42)\n",
        "\n",
        "# 데이터 전처리\n",
        "scaler = StandardScaler()\n",
        "X_train5 = scaler.fit_transform(X_train5)\n",
        "X_test5 = scaler.transform(X_test5)\n",
        "\n",
        "# LSTM 모델 생성\n",
        "model = Sequential()\n",
        "model.add(LSTM(128, input_shape=(X_train5.shape[1], 1), return_sequences=True))\n",
        "model.add(Dropout(0.2))\n",
        "model.add(LSTM(128, return_sequences=True))\n",
        "model.add(Dropout(0.2))\n",
        "model.add(Dense(1, activation='sigmoid'))\n",
        "\n",
        "\n",
        "# 모델 컴파일\n",
        "model.compile(loss='binary_crossentropy', optimizer='nadam', metrics=['accuracy'])\n",
        "\n",
        "# 데이터 형식 조정\n",
        "X_train5 = X_train5.reshape(X_train5.shape[0], X_train5.shape[1], 1)\n",
        "X_test5 = X_test5.reshape(X_test5.shape[0], X_test5.shape[1], 1)\n",
        "\n",
        "# 모델 학습\n",
        "model.fit(X_train5, y_train5, epochs=10, batch_size=64)"
      ],
      "metadata": {
        "colab": {
          "base_uri": "https://localhost:8080/"
        },
        "id": "uk4X6FgYWSa-",
        "outputId": "c8f96073-a365-429d-e78b-843bda597706"
      },
      "execution_count": 86,
      "outputs": [
        {
          "output_type": "stream",
          "name": "stdout",
          "text": [
            "Epoch 1/10\n",
            "32/32 [==============================] - 13s 54ms/step - loss: 0.6882 - accuracy: 0.5491\n",
            "Epoch 2/10\n",
            "32/32 [==============================] - 2s 70ms/step - loss: 0.6815 - accuracy: 0.5681\n",
            "Epoch 3/10\n",
            "32/32 [==============================] - 2s 62ms/step - loss: 0.6767 - accuracy: 0.5782\n",
            "Epoch 4/10\n",
            "32/32 [==============================] - 2s 67ms/step - loss: 0.6728 - accuracy: 0.5871\n",
            "Epoch 5/10\n",
            "32/32 [==============================] - 1s 39ms/step - loss: 0.6698 - accuracy: 0.5942\n",
            "Epoch 6/10\n",
            "32/32 [==============================] - 1s 38ms/step - loss: 0.6667 - accuracy: 0.5853\n",
            "Epoch 7/10\n",
            "32/32 [==============================] - 1s 39ms/step - loss: 0.6650 - accuracy: 0.5910\n",
            "Epoch 8/10\n",
            "32/32 [==============================] - 1s 39ms/step - loss: 0.6619 - accuracy: 0.5873\n",
            "Epoch 9/10\n",
            "32/32 [==============================] - 1s 38ms/step - loss: 0.6612 - accuracy: 0.5852\n",
            "Epoch 10/10\n",
            "32/32 [==============================] - 1s 39ms/step - loss: 0.6575 - accuracy: 0.5968\n"
          ]
        },
        {
          "output_type": "execute_result",
          "data": {
            "text/plain": [
              "<keras.src.callbacks.History at 0x7dff61522b60>"
            ]
          },
          "metadata": {},
          "execution_count": 86
        }
      ]
    },
    {
      "cell_type": "code",
      "source": [
        "# 모델 평가\n",
        "y_pred5 = model.predict(X_test5)\n",
        "\n",
        "# y_pred5의 첫 번째 차원을 유지하고 나머지 차원을 제거\n",
        "y_pred5_squeezed = np.squeeze(y_pred5)\n",
        "\n",
        "print(y_pred5_squeezed.shape)"
      ],
      "metadata": {
        "colab": {
          "base_uri": "https://localhost:8080/"
        },
        "id": "j2eFLNFUWY0-",
        "outputId": "e80825ac-7b5c-4846-e960-56f6f7c07320"
      },
      "execution_count": 87,
      "outputs": [
        {
          "output_type": "stream",
          "name": "stdout",
          "text": [
            "16/16 [==============================] - 1s 17ms/step\n",
            "(512, 8)\n"
          ]
        }
      ]
    },
    {
      "cell_type": "code",
      "source": [
        "# 만약 여전히 y_pred5_squeezed가 다차원 배열이라면, 추가적인 처리가 필요\n",
        "if y_pred5_squeezed.ndim > 1:\n",
        "    # 예를 들어, y_pred5_squeezed가 2차원 배열이라면, 적절한 열 선택\n",
        "    y_pred5_squeezed = y_pred5_squeezed[:, 0]  # 예를 들어 첫 번째 열을 선택\n",
        "\n",
        "# 이진 예측 생성\n",
        "y_pred_binary5 = [1 if pred > 0.5 else 0 for pred in y_pred5_squeezed]\n",
        "\n",
        "# 정확도 계산\n",
        "accuracy = accuracy_score(y_test5, y_pred_binary5)\n",
        "print(\"Accuracy:\", accuracy)"
      ],
      "metadata": {
        "colab": {
          "base_uri": "https://localhost:8080/"
        },
        "id": "Gc_vj9z-Wdii",
        "outputId": "d3a2ad17-2545-4448-ef74-67add950fa87"
      },
      "execution_count": 88,
      "outputs": [
        {
          "output_type": "stream",
          "name": "stdout",
          "text": [
            "Accuracy: 0.53515625\n"
          ]
        }
      ]
    },
    {
      "cell_type": "code",
      "source": [
        "\n",
        "# 혼동 행렬\n",
        "conf_matrix = confusion_matrix(y_test5, y_pred_binary5)\n",
        "print(\"Confusion Matrix:\")\n",
        "print(conf_matrix)\n",
        "\n",
        "# 분류 보고서\n",
        "class_report = classification_report(y_test5, y_pred_binary5)\n",
        "print(\"\\nClassification Report:\")\n",
        "print(class_report)"
      ],
      "metadata": {
        "colab": {
          "base_uri": "https://localhost:8080/"
        },
        "id": "-Y25cMuBWelf",
        "outputId": "439c15cf-a339-43fa-896f-8a53951b29f7"
      },
      "execution_count": 89,
      "outputs": [
        {
          "output_type": "stream",
          "name": "stdout",
          "text": [
            "Confusion Matrix:\n",
            "[[  0 238]\n",
            " [  0 274]]\n",
            "\n",
            "Classification Report:\n",
            "              precision    recall  f1-score   support\n",
            "\n",
            "           0       0.00      0.00      0.00       238\n",
            "           1       0.54      1.00      0.70       274\n",
            "\n",
            "    accuracy                           0.54       512\n",
            "   macro avg       0.27      0.50      0.35       512\n",
            "weighted avg       0.29      0.54      0.37       512\n",
            "\n"
          ]
        },
        {
          "output_type": "stream",
          "name": "stderr",
          "text": [
            "/usr/local/lib/python3.10/dist-packages/sklearn/metrics/_classification.py:1344: UndefinedMetricWarning: Precision and F-score are ill-defined and being set to 0.0 in labels with no predicted samples. Use `zero_division` parameter to control this behavior.\n",
            "  _warn_prf(average, modifier, msg_start, len(result))\n",
            "/usr/local/lib/python3.10/dist-packages/sklearn/metrics/_classification.py:1344: UndefinedMetricWarning: Precision and F-score are ill-defined and being set to 0.0 in labels with no predicted samples. Use `zero_division` parameter to control this behavior.\n",
            "  _warn_prf(average, modifier, msg_start, len(result))\n",
            "/usr/local/lib/python3.10/dist-packages/sklearn/metrics/_classification.py:1344: UndefinedMetricWarning: Precision and F-score are ill-defined and being set to 0.0 in labels with no predicted samples. Use `zero_division` parameter to control this behavior.\n",
            "  _warn_prf(average, modifier, msg_start, len(result))\n"
          ]
        }
      ]
    },
    {
      "cell_type": "code",
      "source": [
        "# 모델 평가\n",
        "val_pred5 = model.predict(val_input5)\n",
        "\n",
        "# y_pred5의 첫 번째 차원을 유지하고 나머지 차원을 제거\n",
        "val_pred5_squeezed = np.squeeze(val_pred5)"
      ],
      "metadata": {
        "colab": {
          "base_uri": "https://localhost:8080/",
          "height": 410
        },
        "id": "2TwHz9kJWfnh",
        "outputId": "14068c47-26a4-432a-b4d1-641a945c79a3"
      },
      "execution_count": 90,
      "outputs": [
        {
          "output_type": "error",
          "ename": "ValueError",
          "evalue": "Failed to convert a NumPy array to a Tensor (Unsupported object type bool).",
          "traceback": [
            "\u001b[0;31m---------------------------------------------------------------------------\u001b[0m",
            "\u001b[0;31mValueError\u001b[0m                                Traceback (most recent call last)",
            "\u001b[0;32m<ipython-input-90-4a800ac2d87f>\u001b[0m in \u001b[0;36m<cell line: 2>\u001b[0;34m()\u001b[0m\n\u001b[1;32m      1\u001b[0m \u001b[0;31m# 모델 평가\u001b[0m\u001b[0;34m\u001b[0m\u001b[0;34m\u001b[0m\u001b[0m\n\u001b[0;32m----> 2\u001b[0;31m \u001b[0mval_pred5\u001b[0m \u001b[0;34m=\u001b[0m \u001b[0mmodel\u001b[0m\u001b[0;34m.\u001b[0m\u001b[0mpredict\u001b[0m\u001b[0;34m(\u001b[0m\u001b[0mval_input5\u001b[0m\u001b[0;34m)\u001b[0m\u001b[0;34m\u001b[0m\u001b[0;34m\u001b[0m\u001b[0m\n\u001b[0m\u001b[1;32m      3\u001b[0m \u001b[0;34m\u001b[0m\u001b[0m\n\u001b[1;32m      4\u001b[0m \u001b[0;31m# y_pred5의 첫 번째 차원을 유지하고 나머지 차원을 제거\u001b[0m\u001b[0;34m\u001b[0m\u001b[0;34m\u001b[0m\u001b[0m\n\u001b[1;32m      5\u001b[0m \u001b[0mval_pred5_squeezed\u001b[0m \u001b[0;34m=\u001b[0m \u001b[0mnp\u001b[0m\u001b[0;34m.\u001b[0m\u001b[0msqueeze\u001b[0m\u001b[0;34m(\u001b[0m\u001b[0mval_pred5\u001b[0m\u001b[0;34m)\u001b[0m\u001b[0;34m\u001b[0m\u001b[0;34m\u001b[0m\u001b[0m\n",
            "\u001b[0;32m/usr/local/lib/python3.10/dist-packages/keras/src/utils/traceback_utils.py\u001b[0m in \u001b[0;36merror_handler\u001b[0;34m(*args, **kwargs)\u001b[0m\n\u001b[1;32m     68\u001b[0m             \u001b[0;31m# To get the full stack trace, call:\u001b[0m\u001b[0;34m\u001b[0m\u001b[0;34m\u001b[0m\u001b[0m\n\u001b[1;32m     69\u001b[0m             \u001b[0;31m# `tf.debugging.disable_traceback_filtering()`\u001b[0m\u001b[0;34m\u001b[0m\u001b[0;34m\u001b[0m\u001b[0m\n\u001b[0;32m---> 70\u001b[0;31m             \u001b[0;32mraise\u001b[0m \u001b[0me\u001b[0m\u001b[0;34m.\u001b[0m\u001b[0mwith_traceback\u001b[0m\u001b[0;34m(\u001b[0m\u001b[0mfiltered_tb\u001b[0m\u001b[0;34m)\u001b[0m \u001b[0;32mfrom\u001b[0m \u001b[0;32mNone\u001b[0m\u001b[0;34m\u001b[0m\u001b[0;34m\u001b[0m\u001b[0m\n\u001b[0m\u001b[1;32m     71\u001b[0m         \u001b[0;32mfinally\u001b[0m\u001b[0;34m:\u001b[0m\u001b[0;34m\u001b[0m\u001b[0;34m\u001b[0m\u001b[0m\n\u001b[1;32m     72\u001b[0m             \u001b[0;32mdel\u001b[0m \u001b[0mfiltered_tb\u001b[0m\u001b[0;34m\u001b[0m\u001b[0;34m\u001b[0m\u001b[0m\n",
            "\u001b[0;32m/usr/local/lib/python3.10/dist-packages/tensorflow/python/framework/constant_op.py\u001b[0m in \u001b[0;36mconvert_to_eager_tensor\u001b[0;34m(value, ctx, dtype)\u001b[0m\n\u001b[1;32m    101\u001b[0m       \u001b[0mdtype\u001b[0m \u001b[0;34m=\u001b[0m \u001b[0mdtypes\u001b[0m\u001b[0;34m.\u001b[0m\u001b[0mas_dtype\u001b[0m\u001b[0;34m(\u001b[0m\u001b[0mdtype\u001b[0m\u001b[0;34m)\u001b[0m\u001b[0;34m.\u001b[0m\u001b[0mas_datatype_enum\u001b[0m\u001b[0;34m\u001b[0m\u001b[0;34m\u001b[0m\u001b[0m\n\u001b[1;32m    102\u001b[0m   \u001b[0mctx\u001b[0m\u001b[0;34m.\u001b[0m\u001b[0mensure_initialized\u001b[0m\u001b[0;34m(\u001b[0m\u001b[0;34m)\u001b[0m\u001b[0;34m\u001b[0m\u001b[0;34m\u001b[0m\u001b[0m\n\u001b[0;32m--> 103\u001b[0;31m   \u001b[0;32mreturn\u001b[0m \u001b[0mops\u001b[0m\u001b[0;34m.\u001b[0m\u001b[0mEagerTensor\u001b[0m\u001b[0;34m(\u001b[0m\u001b[0mvalue\u001b[0m\u001b[0;34m,\u001b[0m \u001b[0mctx\u001b[0m\u001b[0;34m.\u001b[0m\u001b[0mdevice_name\u001b[0m\u001b[0;34m,\u001b[0m \u001b[0mdtype\u001b[0m\u001b[0;34m)\u001b[0m\u001b[0;34m\u001b[0m\u001b[0;34m\u001b[0m\u001b[0m\n\u001b[0m\u001b[1;32m    104\u001b[0m \u001b[0;34m\u001b[0m\u001b[0m\n\u001b[1;32m    105\u001b[0m \u001b[0;34m\u001b[0m\u001b[0m\n",
            "\u001b[0;31mValueError\u001b[0m: Failed to convert a NumPy array to a Tensor (Unsupported object type bool)."
          ]
        }
      ]
    },
    {
      "cell_type": "code",
      "source": [
        "# 만약 여전히 y_pred5_squeezed가 다차원 배열이라면, 추가적인 처리가 필요\n",
        "if val_pred5_squeezed.ndim > 1:\n",
        "    # 예를 들어, y_pred5_squeezed가 2차원 배열이라면, 적절한 열 선택\n",
        "    val_pred5_squeezed = val_pred5_squeezed[:, 2]  # 예를 들어 첫 번째 열을 선택\n",
        "\n",
        "# 이진 예측 생성\n",
        "val_pred_binary5 = [1 if pred > 0.5 else 0 for pred in val_pred5_squeezed]\n",
        "\n",
        "# 정확도 계산\n",
        "accuracy = accuracy_score(val_target5, val_pred_binary5)\n",
        "print(\"Accuracy:\", accuracy)\n",
        "\n",
        "# 분류 보고서 출력\n",
        "classification_val5 = classification_report(val_target5, val_pred_binary5)\n",
        "print(\"Classification Report:\\n\", classification_val5)\n",
        "\n",
        "# 혼동 행렬 출력\n",
        "conf_matrix55 = confusion_matrix(val_target5, val_pred_binary5)\n",
        "print(\"Confusion Matrix:\\n\", conf_matrix55)"
      ],
      "metadata": {
        "colab": {
          "base_uri": "https://localhost:8080/",
          "height": 258
        },
        "id": "6gwB4SC9WgsX",
        "outputId": "3231b36d-5e13-45ac-88d5-797d31c7985a"
      },
      "execution_count": 91,
      "outputs": [
        {
          "output_type": "error",
          "ename": "NameError",
          "evalue": "name 'val_pred5_squeezed' is not defined",
          "traceback": [
            "\u001b[0;31m---------------------------------------------------------------------------\u001b[0m",
            "\u001b[0;31mNameError\u001b[0m                                 Traceback (most recent call last)",
            "\u001b[0;32m<ipython-input-91-b30791126ff7>\u001b[0m in \u001b[0;36m<cell line: 2>\u001b[0;34m()\u001b[0m\n\u001b[1;32m      1\u001b[0m \u001b[0;31m# 만약 여전히 y_pred5_squeezed가 다차원 배열이라면, 추가적인 처리가 필요\u001b[0m\u001b[0;34m\u001b[0m\u001b[0;34m\u001b[0m\u001b[0m\n\u001b[0;32m----> 2\u001b[0;31m \u001b[0;32mif\u001b[0m \u001b[0mval_pred5_squeezed\u001b[0m\u001b[0;34m.\u001b[0m\u001b[0mndim\u001b[0m \u001b[0;34m>\u001b[0m \u001b[0;36m1\u001b[0m\u001b[0;34m:\u001b[0m\u001b[0;34m\u001b[0m\u001b[0;34m\u001b[0m\u001b[0m\n\u001b[0m\u001b[1;32m      3\u001b[0m     \u001b[0;31m# 예를 들어, y_pred5_squeezed가 2차원 배열이라면, 적절한 열 선택\u001b[0m\u001b[0;34m\u001b[0m\u001b[0;34m\u001b[0m\u001b[0m\n\u001b[1;32m      4\u001b[0m     \u001b[0mval_pred5_squeezed\u001b[0m \u001b[0;34m=\u001b[0m \u001b[0mval_pred5_squeezed\u001b[0m\u001b[0;34m[\u001b[0m\u001b[0;34m:\u001b[0m\u001b[0;34m,\u001b[0m \u001b[0;36m2\u001b[0m\u001b[0;34m]\u001b[0m  \u001b[0;31m# 예를 들어 첫 번째 열을 선택\u001b[0m\u001b[0;34m\u001b[0m\u001b[0;34m\u001b[0m\u001b[0m\n\u001b[1;32m      5\u001b[0m \u001b[0;34m\u001b[0m\u001b[0m\n",
            "\u001b[0;31mNameError\u001b[0m: name 'val_pred5_squeezed' is not defined"
          ]
        }
      ]
    },
    {
      "cell_type": "markdown",
      "source": [
        "# 모델 비교평가"
      ],
      "metadata": {
        "id": "KIhR-aN2WjkX"
      }
    },
    {
      "cell_type": "code",
      "source": [
        "from sklearn.metrics import accuracy_score, precision_score, recall_score, f1_score\n",
        "\n",
        "# 예측 결과와 실제 레이블\n",
        "# 여기서 y_test는 실제 테스트 데이터 레이블이며, 각 모델의 예측 결과는 각각의 변수에 저장되어 있다고 가정\n",
        "y_test = y_test1\n",
        "y_pred_lgbm = y_pred_binary\n",
        "y_pred_logistic = y_pred1\n",
        "y_pred_rf = y_pred3\n",
        "y_pred_lstm = y_pred_binary5\n",
        "y_pred_svm = y_pred4\n",
        "\n",
        "# 각 모델의 성능 지표 계산\n",
        "models = ['LightGBM', 'Logistic Regression', 'Random Forest', 'LSTM', 'SVM']\n",
        "y_preds = [y_pred_lgbm, y_pred_logistic, y_pred_rf, y_pred_lstm, y_pred_svm]\n",
        "\n",
        "for model, y_pred in zip(models, y_preds):\n",
        "    accuracy = accuracy_score(y_test, y_pred)\n",
        "    precision = precision_score(y_test, y_pred)\n",
        "    recall = recall_score(y_test, y_pred)\n",
        "    f1 = f1_score(y_test, y_pred)\n",
        "    print(f\"{model} - Accuracy: {accuracy:.2f}, Precision: {precision:.2f}, Recall: {recall:.2f}, F1 Score: {f1:.2f}\")\n"
      ],
      "metadata": {
        "colab": {
          "base_uri": "https://localhost:8080/"
        },
        "id": "p6SB48txWiB3",
        "outputId": "70b5fe58-520b-4ad3-f841-14ba39fc3478"
      },
      "execution_count": 92,
      "outputs": [
        {
          "output_type": "stream",
          "name": "stdout",
          "text": [
            "LightGBM - Accuracy: 0.75, Precision: 0.75, Recall: 0.81, F1 Score: 0.78\n",
            "Logistic Regression - Accuracy: 0.70, Precision: 0.71, Recall: 0.74, F1 Score: 0.72\n",
            "Random Forest - Accuracy: 0.80, Precision: 0.79, Recall: 0.85, F1 Score: 0.82\n",
            "LSTM - Accuracy: 0.54, Precision: 0.54, Recall: 1.00, F1 Score: 0.70\n",
            "SVM - Accuracy: 0.67, Precision: 0.70, Recall: 0.67, F1 Score: 0.69\n"
          ]
        }
      ]
    },
    {
      "cell_type": "code",
      "source": [
        "from sklearn.metrics import accuracy_score, precision_score, recall_score, f1_score\n",
        "\n",
        "# 예측 결과와 실제 레이블\n",
        "# 여기서 y_test는 실제 테스트 데이터 레이블이며, 각 모델의 예측 결과는 각각의 변수에 저장되어 있다고 가정\n",
        "y_test = val_target1\n",
        "y_pred_lgbm = val_pred_binary\n",
        "y_pred_logistic = val_pred1\n",
        "y_pred_rf = val_pred3\n",
        "y_pred_lstm = val_pred_binary5\n",
        "y_pred_svm = val_pred4\n",
        "\n",
        "# 각 모델의 성능 지표 계산\n",
        "models = ['LightGBM', 'Logistic Regression', 'Random Forest', 'LSTM', 'SVM']\n",
        "y_preds = [y_pred_lgbm, y_pred_logistic, y_pred_rf, y_pred_lstm, y_pred_svm]\n",
        "\n",
        "for model, y_pred in zip(models, y_preds):\n",
        "    accuracy = accuracy_score(y_test, y_pred)\n",
        "    precision = precision_score(y_test, y_pred)\n",
        "    recall = recall_score(y_test, y_pred)\n",
        "    f1 = f1_score(y_test, y_pred)\n",
        "    print(f\"{model} - Accuracy: {accuracy:.2f}, Precision: {precision:.2f}, Recall: {recall:.2f}, F1 Score: {f1:.2f}\")\n"
      ],
      "metadata": {
        "colab": {
          "base_uri": "https://localhost:8080/",
          "height": 258
        },
        "id": "955o3DDUWlnc",
        "outputId": "fb53822f-8647-4d2d-fcf3-4621ed0c5be4"
      },
      "execution_count": 93,
      "outputs": [
        {
          "output_type": "error",
          "ename": "NameError",
          "evalue": "name 'val_pred_binary5' is not defined",
          "traceback": [
            "\u001b[0;31m---------------------------------------------------------------------------\u001b[0m",
            "\u001b[0;31mNameError\u001b[0m                                 Traceback (most recent call last)",
            "\u001b[0;32m<ipython-input-93-46af4a7ffc84>\u001b[0m in \u001b[0;36m<cell line: 9>\u001b[0;34m()\u001b[0m\n\u001b[1;32m      7\u001b[0m \u001b[0my_pred_logistic\u001b[0m \u001b[0;34m=\u001b[0m \u001b[0mval_pred1\u001b[0m\u001b[0;34m\u001b[0m\u001b[0;34m\u001b[0m\u001b[0m\n\u001b[1;32m      8\u001b[0m \u001b[0my_pred_rf\u001b[0m \u001b[0;34m=\u001b[0m \u001b[0mval_pred3\u001b[0m\u001b[0;34m\u001b[0m\u001b[0;34m\u001b[0m\u001b[0m\n\u001b[0;32m----> 9\u001b[0;31m \u001b[0my_pred_lstm\u001b[0m \u001b[0;34m=\u001b[0m \u001b[0mval_pred_binary5\u001b[0m\u001b[0;34m\u001b[0m\u001b[0;34m\u001b[0m\u001b[0m\n\u001b[0m\u001b[1;32m     10\u001b[0m \u001b[0my_pred_svm\u001b[0m \u001b[0;34m=\u001b[0m \u001b[0mval_pred4\u001b[0m\u001b[0;34m\u001b[0m\u001b[0;34m\u001b[0m\u001b[0m\n\u001b[1;32m     11\u001b[0m \u001b[0;34m\u001b[0m\u001b[0m\n",
            "\u001b[0;31mNameError\u001b[0m: name 'val_pred_binary5' is not defined"
          ]
        }
      ]
    },
    {
      "cell_type": "code",
      "source": [],
      "metadata": {
        "id": "3G-KiMUkWmxg"
      },
      "execution_count": null,
      "outputs": []
    }
  ]
}